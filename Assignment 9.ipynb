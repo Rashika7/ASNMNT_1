{
 "cells": [
  {
   "cell_type": "markdown",
   "id": "f4476ded",
   "metadata": {},
   "source": [
    "# 1.To what does a relative path refer?"
   ]
  },
  {
   "cell_type": "markdown",
   "id": "3cbbf79b",
   "metadata": {},
   "source": [
    "Ans-1) A relative path refers to a location that is relative to a current directory, basically it used when linking within pages or files within a site."
   ]
  },
  {
   "cell_type": "markdown",
   "id": "4f1f54be",
   "metadata": {},
   "source": [
    "# 2.What does an absolute path start with your operating system?"
   ]
  },
  {
   "cell_type": "markdown",
   "id": "caf5517b",
   "metadata": {},
   "source": [
    "Ans-2) \n",
    "An absolute path begins with a drive letter followed by a colon, eg-C:, D: etc.\n",
    "        \n",
    "it can be used anywhere and are needed when linking to an external file or folder on a different website."
   ]
  },
  {
   "cell_type": "markdown",
   "id": "24f1e22f",
   "metadata": {},
   "source": [
    "# 3.What do the functions os.getcwd() and os.chdir() do?"
   ]
  },
  {
   "cell_type": "markdown",
   "id": "7e3b4f73",
   "metadata": {},
   "source": [
    "Ans-3) The functions os.getcwd() gives current working directory, while os.chdir() use to change working directory."
   ]
  },
  {
   "cell_type": "markdown",
   "id": "3ca9c862",
   "metadata": {},
   "source": [
    "# 4.What are the . and .. folders?"
   ]
  },
  {
   "cell_type": "markdown",
   "id": "dcccb04a",
   "metadata": {},
   "source": [
    "Ans-4) \n",
    "\n",
    "A dot and a double-dot, translate into the current directory and the parent directory. \n",
    "A single dot represents the current directory itself.\n",
    "Double dots are used for moving up in the hierarchy. "
   ]
  },
  {
   "cell_type": "markdown",
   "id": "1e06d58b",
   "metadata": {},
   "source": [
    "# 5.In C:\\bacon\\eggs\\spam.txt, which part is the dir name, and which part is the base name?"
   ]
  },
  {
   "cell_type": "markdown",
   "id": "b4a2e123",
   "metadata": {},
   "source": [
    "Ans-5) C: is the directory name, bacon\\eggs\\spam.txt is base name in which bacon\\eggs are folders name and spam.txt is file name."
   ]
  },
  {
   "cell_type": "markdown",
   "id": "9edb4073",
   "metadata": {},
   "source": [
    "# 6.What are the three “mode” arguments that can be passed to the open() function?"
   ]
  },
  {
   "cell_type": "markdown",
   "id": "2d990c2b",
   "metadata": {},
   "source": [
    "Ans-6)\n",
    "The three “mode” arguments that can be passed to the open() function are-\n",
    "\n",
    "Read mode: open('test1.txt', 'r'), Write mode: open('test1.txt', 'w'), Append mode: open('test1.txt', 'a')."
   ]
  },
  {
   "cell_type": "markdown",
   "id": "53aa1528",
   "metadata": {},
   "source": [
    "# 7.What happens if an existing file is opened in write mode?"
   ]
  },
  {
   "cell_type": "markdown",
   "id": "dc3a9abc",
   "metadata": {},
   "source": [
    "Ans-7) If an existing file is opened in write mode the existing file will overwrite and start from scratch, same as when we overwrite a variable's value with a new value."
   ]
  },
  {
   "cell_type": "markdown",
   "id": "6ce12fb6",
   "metadata": {},
   "source": [
    "# 8.How do you tell the difference between read() and readlines()?"
   ]
  },
  {
   "cell_type": "markdown",
   "id": "defda089",
   "metadata": {},
   "source": [
    "Ans-8) \n",
    "read() method returns the contents of a file as a single large string value or the complete data of file in a paragraph.\n",
    "\n",
    "readline() method get a list of string values from the file, one string for each line of text, it returns line by line data."
   ]
  },
  {
   "cell_type": "markdown",
   "id": "bd8c62c5",
   "metadata": {},
   "source": [
    "# 9.What data structure does a shelf value resemble?"
   ]
  },
  {
   "cell_type": "markdown",
   "id": "48cf84a9",
   "metadata": {},
   "source": [
    "Ans-9) A shelf value resemble dictionary data structure, which means the data in key value pairs."
   ]
  },
  {
   "cell_type": "markdown",
   "id": "6d954355",
   "metadata": {},
   "source": [
    "                                       Keep learning, Keep growing.   "
   ]
  }
 ],
 "metadata": {
  "kernelspec": {
   "display_name": "Python 3 (ipykernel)",
   "language": "python",
   "name": "python3"
  },
  "language_info": {
   "codemirror_mode": {
    "name": "ipython",
    "version": 3
   },
   "file_extension": ".py",
   "mimetype": "text/x-python",
   "name": "python",
   "nbconvert_exporter": "python",
   "pygments_lexer": "ipython3",
   "version": "3.9.7"
  }
 },
 "nbformat": 4,
 "nbformat_minor": 5
}
