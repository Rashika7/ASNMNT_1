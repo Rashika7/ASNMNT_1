{
 "cells": [
  {
   "cell_type": "markdown",
   "id": "fc0ea06c",
   "metadata": {},
   "source": [
    "# 1.What are the two values of the Boolean data type? How do you write them?"
   ]
  },
  {
   "cell_type": "markdown",
   "id": "2a2add50",
   "metadata": {},
   "source": [
    "Ans-1) The two values of the boolean data type are True and False. \n",
    "Boolean variables are used to indicate whether a condition is\n",
    "true or not, or to represent two states, such as on\n",
    "or off and yes or no.\n",
    "True represents 1, False represents 0."
   ]
  },
  {
   "cell_type": "markdown",
   "id": "1c35f3a7",
   "metadata": {},
   "source": [
    "# 2.What are the three different types of Boolean operators?"
   ]
  },
  {
   "cell_type": "markdown",
   "id": "eabe3fb3",
   "metadata": {},
   "source": [
    "Ans-2) The three boolean operators are-\n",
    "       AND, OR and NOT\n",
    "       AND means if both the condition fulfill then it gives True or 1, otherwise False or 0.\n",
    "       OR means if either condition is right then the result is True or 1, otherwise False or 0. \n",
    "       NOT operator is uses for negative or opposite."
   ]
  },
  {
   "cell_type": "markdown",
   "id": "3a4b6bff",
   "metadata": {},
   "source": [
    "# 3.Make a list of each Boolean operator's truth tables (i.e. every possible combination of Boolean values for the operator and what it evaluate )."
   ]
  },
  {
   "cell_type": "code",
   "execution_count": 10,
   "id": "d1928485",
   "metadata": {},
   "outputs": [
    {
     "data": {
      "text/html": [
       "<div>\n",
       "<style scoped>\n",
       "    .dataframe tbody tr th:only-of-type {\n",
       "        vertical-align: middle;\n",
       "    }\n",
       "\n",
       "    .dataframe tbody tr th {\n",
       "        vertical-align: top;\n",
       "    }\n",
       "\n",
       "    .dataframe thead th {\n",
       "        text-align: right;\n",
       "    }\n",
       "</style>\n",
       "<table border=\"1\" class=\"dataframe\">\n",
       "  <thead>\n",
       "    <tr style=\"text-align: right;\">\n",
       "      <th></th>\n",
       "      <th>A</th>\n",
       "      <th>B</th>\n",
       "      <th>C</th>\n",
       "    </tr>\n",
       "  </thead>\n",
       "  <tbody>\n",
       "    <tr>\n",
       "      <th>0</th>\n",
       "      <td>0</td>\n",
       "      <td>0</td>\n",
       "      <td>0</td>\n",
       "    </tr>\n",
       "    <tr>\n",
       "      <th>1</th>\n",
       "      <td>0</td>\n",
       "      <td>1</td>\n",
       "      <td>0</td>\n",
       "    </tr>\n",
       "    <tr>\n",
       "      <th>2</th>\n",
       "      <td>1</td>\n",
       "      <td>0</td>\n",
       "      <td>0</td>\n",
       "    </tr>\n",
       "    <tr>\n",
       "      <th>3</th>\n",
       "      <td>1</td>\n",
       "      <td>1</td>\n",
       "      <td>1</td>\n",
       "    </tr>\n",
       "  </tbody>\n",
       "</table>\n",
       "</div>"
      ],
      "text/plain": [
       "   A  B  C\n",
       "0  0  0  0\n",
       "1  0  1  0\n",
       "2  1  0  0\n",
       "3  1  1  1"
      ]
     },
     "execution_count": 10,
     "metadata": {},
     "output_type": "execute_result"
    }
   ],
   "source": [
    "#Ans-3) A and B are inputs, C is an output.\n",
    "import pandas as pd\n",
    "AND = {\"A\":[0,0,1,1],\"B\":[0,1,0,1],\"C\":[0,0,0,1]}\n",
    "df = pd.DataFrame(AND)\n",
    "df  "
   ]
  },
  {
   "cell_type": "code",
   "execution_count": 11,
   "id": "69bc513c",
   "metadata": {},
   "outputs": [
    {
     "data": {
      "text/html": [
       "<div>\n",
       "<style scoped>\n",
       "    .dataframe tbody tr th:only-of-type {\n",
       "        vertical-align: middle;\n",
       "    }\n",
       "\n",
       "    .dataframe tbody tr th {\n",
       "        vertical-align: top;\n",
       "    }\n",
       "\n",
       "    .dataframe thead th {\n",
       "        text-align: right;\n",
       "    }\n",
       "</style>\n",
       "<table border=\"1\" class=\"dataframe\">\n",
       "  <thead>\n",
       "    <tr style=\"text-align: right;\">\n",
       "      <th></th>\n",
       "      <th>A</th>\n",
       "      <th>B</th>\n",
       "      <th>C</th>\n",
       "    </tr>\n",
       "  </thead>\n",
       "  <tbody>\n",
       "    <tr>\n",
       "      <th>0</th>\n",
       "      <td>0</td>\n",
       "      <td>0</td>\n",
       "      <td>0</td>\n",
       "    </tr>\n",
       "    <tr>\n",
       "      <th>1</th>\n",
       "      <td>0</td>\n",
       "      <td>1</td>\n",
       "      <td>1</td>\n",
       "    </tr>\n",
       "    <tr>\n",
       "      <th>2</th>\n",
       "      <td>1</td>\n",
       "      <td>0</td>\n",
       "      <td>1</td>\n",
       "    </tr>\n",
       "    <tr>\n",
       "      <th>3</th>\n",
       "      <td>1</td>\n",
       "      <td>1</td>\n",
       "      <td>1</td>\n",
       "    </tr>\n",
       "  </tbody>\n",
       "</table>\n",
       "</div>"
      ],
      "text/plain": [
       "   A  B  C\n",
       "0  0  0  0\n",
       "1  0  1  1\n",
       "2  1  0  1\n",
       "3  1  1  1"
      ]
     },
     "execution_count": 11,
     "metadata": {},
     "output_type": "execute_result"
    }
   ],
   "source": [
    "#A and B are inputs, C is an output\n",
    "OR = {\"A\":[0,0,1,1],\"B\":[0,1,0,1],\"C\":[0,1,1,1]}\n",
    "df = pd.DataFrame(OR)\n",
    "df  "
   ]
  },
  {
   "cell_type": "code",
   "execution_count": 12,
   "id": "ec3276cb",
   "metadata": {},
   "outputs": [
    {
     "data": {
      "text/html": [
       "<div>\n",
       "<style scoped>\n",
       "    .dataframe tbody tr th:only-of-type {\n",
       "        vertical-align: middle;\n",
       "    }\n",
       "\n",
       "    .dataframe tbody tr th {\n",
       "        vertical-align: top;\n",
       "    }\n",
       "\n",
       "    .dataframe thead th {\n",
       "        text-align: right;\n",
       "    }\n",
       "</style>\n",
       "<table border=\"1\" class=\"dataframe\">\n",
       "  <thead>\n",
       "    <tr style=\"text-align: right;\">\n",
       "      <th></th>\n",
       "      <th>A</th>\n",
       "      <th>C</th>\n",
       "    </tr>\n",
       "  </thead>\n",
       "  <tbody>\n",
       "    <tr>\n",
       "      <th>0</th>\n",
       "      <td>0</td>\n",
       "      <td>1</td>\n",
       "    </tr>\n",
       "    <tr>\n",
       "      <th>1</th>\n",
       "      <td>1</td>\n",
       "      <td>0</td>\n",
       "    </tr>\n",
       "  </tbody>\n",
       "</table>\n",
       "</div>"
      ],
      "text/plain": [
       "   A  C\n",
       "0  0  1\n",
       "1  1  0"
      ]
     },
     "execution_count": 12,
     "metadata": {},
     "output_type": "execute_result"
    }
   ],
   "source": [
    "# A is an input, C is an output.\n",
    "NOT = {\"A\":[0,1],\"C\":[1,0]}\n",
    "df = pd.DataFrame(NOT)\n",
    "df"
   ]
  },
  {
   "cell_type": "markdown",
   "id": "0ea5e237",
   "metadata": {},
   "source": [
    "# 4.What are the values of the following expressions?\n",
    "  '''\n",
    "  \n",
    "  (5 > 4) and (3 == 5),\n",
    "  \n",
    "  not (5 > 4),\n",
    "  \n",
    "  (5 > 4) or (3 == 5),\n",
    "  \n",
    "  not ((5 > 4) or (3 == 5)),\n",
    "  \n",
    "  (True and True) and (True == False),\n",
    "  \n",
    "  (not False) or (not True).'''"
   ]
  },
  {
   "cell_type": "code",
   "execution_count": 13,
   "id": "7d00f5a8",
   "metadata": {},
   "outputs": [
    {
     "data": {
      "text/plain": [
       "False"
      ]
     },
     "execution_count": 13,
     "metadata": {},
     "output_type": "execute_result"
    }
   ],
   "source": [
    "#Ans-4) \n",
    "(5 > 4) and (3 == 5)"
   ]
  },
  {
   "cell_type": "code",
   "execution_count": 14,
   "id": "31b84061",
   "metadata": {},
   "outputs": [
    {
     "data": {
      "text/plain": [
       "False"
      ]
     },
     "execution_count": 14,
     "metadata": {},
     "output_type": "execute_result"
    }
   ],
   "source": [
    "not (5 > 4)"
   ]
  },
  {
   "cell_type": "code",
   "execution_count": 15,
   "id": "67f1f545",
   "metadata": {},
   "outputs": [
    {
     "data": {
      "text/plain": [
       "True"
      ]
     },
     "execution_count": 15,
     "metadata": {},
     "output_type": "execute_result"
    }
   ],
   "source": [
    "(5 > 4) or (3 == 5)"
   ]
  },
  {
   "cell_type": "code",
   "execution_count": 16,
   "id": "6af9a4c1",
   "metadata": {},
   "outputs": [
    {
     "data": {
      "text/plain": [
       "False"
      ]
     },
     "execution_count": 16,
     "metadata": {},
     "output_type": "execute_result"
    }
   ],
   "source": [
    "not ((5 > 4) or (3 == 5))"
   ]
  },
  {
   "cell_type": "code",
   "execution_count": 17,
   "id": "271f6703",
   "metadata": {},
   "outputs": [
    {
     "data": {
      "text/plain": [
       "False"
      ]
     },
     "execution_count": 17,
     "metadata": {},
     "output_type": "execute_result"
    }
   ],
   "source": [
    "(True and True) and (True == False)"
   ]
  },
  {
   "cell_type": "code",
   "execution_count": 18,
   "id": "6e8b30df",
   "metadata": {},
   "outputs": [
    {
     "data": {
      "text/plain": [
       "True"
      ]
     },
     "execution_count": 18,
     "metadata": {},
     "output_type": "execute_result"
    }
   ],
   "source": [
    "(not False) or (not True)"
   ]
  },
  {
   "cell_type": "markdown",
   "id": "fbc4262c",
   "metadata": {},
   "source": [
    "# 5.What are the six comparison operators?"
   ]
  },
  {
   "cell_type": "markdown",
   "id": "f65b606e",
   "metadata": {},
   "source": [
    "Ans-5) The six main comparison operators are: \n",
    "    equal to - ==, not equal to - !=, greater than - >, greater than or equal to - >=, less than - <, and less than or equal to - <=."
   ]
  },
  {
   "cell_type": "markdown",
   "id": "ec9f5629",
   "metadata": {},
   "source": [
    "# 6.How do you tell the difference between the equal to and assignment operators? Describe a condition and when you would use one."
   ]
  },
  {
   "cell_type": "markdown",
   "id": "86eefc3f",
   "metadata": {},
   "source": [
    "Ans-6) The “=” is an assignment operator is used to assign the value on the right to the variable(a) on the left.\n",
    "       \n",
    "       eg- a= 10,\n",
    "       \n",
    "           b= \"Rashi\",\n",
    "           \n",
    "           c= 90.9\n",
    "\n",
    "The ‘==’ operator checks whether the two given operands are equal or not. If so, it returns true. Otherwise it returns false.\n",
    "\n",
    "        eg- 10==10 (It will return True),\n",
    "        \n",
    "            10==6 (It will return False)."
   ]
  },
  {
   "cell_type": "markdown",
   "id": "c8b82487",
   "metadata": {},
   "source": [
    "# 7.Identify the three blocks in this code:\n",
    "spam = 0\n",
    "\n",
    "if spam == 10:\n",
    "\n",
    "print('eggs')\n",
    "\n",
    "if spam > 5:\n",
    "\n",
    "print('bacon')\n",
    "\n",
    "else:\n",
    "\n",
    "print('ham')\n",
    "\n",
    "print('spam')\n",
    "\n",
    "print('spam')"
   ]
  },
  {
   "cell_type": "markdown",
   "id": "afcc1750",
   "metadata": {},
   "source": [
    "Ans-7) 1) create spam is an input function, so that we enter the value.\n",
    "       2) indentation error in third, fifth, and seventh line of code.\n",
    "       3) else take only one condition in the above code three print times print function used that is incorrect.\n",
    "       \n",
    "       The corect code should be-\n",
    "          "
   ]
  },
  {
   "cell_type": "code",
   "execution_count": 32,
   "id": "e966f4bd",
   "metadata": {},
   "outputs": [
    {
     "name": "stdout",
     "output_type": "stream",
     "text": [
      "Enter the value10\n",
      "eggs\n"
     ]
    }
   ],
   "source": [
    "spam = int(input('Enter the value'))\n",
    "       \n",
    "if spam==10:\n",
    "    print('eggs')\n",
    "          \n",
    "        \n",
    "elif spam>5:\n",
    "     print('bacon')\n",
    "          \n",
    "else:\n",
    "    print('ham')\n",
    "          "
   ]
  },
  {
   "cell_type": "code",
   "execution_count": 33,
   "id": "dcca7890",
   "metadata": {},
   "outputs": [
    {
     "name": "stdout",
     "output_type": "stream",
     "text": [
      "Enter the value7\n",
      "bacon\n"
     ]
    }
   ],
   "source": [
    "spam = int(input('Enter the value'))\n",
    "       \n",
    "if spam==10:\n",
    "    print('eggs')\n",
    "          \n",
    "        \n",
    "elif spam>5:\n",
    "     print('bacon')\n",
    "          \n",
    "else:\n",
    "    print('ham')"
   ]
  },
  {
   "cell_type": "code",
   "execution_count": 34,
   "id": "bf056324",
   "metadata": {},
   "outputs": [
    {
     "name": "stdout",
     "output_type": "stream",
     "text": [
      "Enter the value4\n",
      "ham\n"
     ]
    }
   ],
   "source": [
    "spam = int(input('Enter the value'))\n",
    "       \n",
    "if spam==10:\n",
    "    print('eggs')\n",
    "          \n",
    "        \n",
    "elif spam>5:\n",
    "     print('bacon')\n",
    "          \n",
    "else:\n",
    "    print('ham')"
   ]
  },
  {
   "cell_type": "markdown",
   "id": "98f639eb",
   "metadata": {},
   "source": [
    "# 8.Write code that prints Hello if 1 is stored in spam, prints Howdy if 2 is stored in spam, and prints Greetings! if anything else is stored in spam."
   ]
  },
  {
   "cell_type": "code",
   "execution_count": 40,
   "id": "b6440690",
   "metadata": {},
   "outputs": [
    {
     "name": "stdout",
     "output_type": "stream",
     "text": [
      "Enter the value1\n",
      "Hello\n"
     ]
    }
   ],
   "source": [
    "#Ans-8)\n",
    "spam = int(input('Enter the value'))\n",
    "       \n",
    "if spam==1:\n",
    "    print('Hello')\n",
    "    \n",
    "        \n",
    "elif spam==2:\n",
    "    print('Howdy')\n",
    "    \n",
    "else:\n",
    "    print('Greetings!')"
   ]
  },
  {
   "cell_type": "code",
   "execution_count": 41,
   "id": "26b1a5cb",
   "metadata": {},
   "outputs": [
    {
     "name": "stdout",
     "output_type": "stream",
     "text": [
      "Enter the value2\n",
      "Howdy\n"
     ]
    }
   ],
   "source": [
    "spam = int(input('Enter the value'))\n",
    "       \n",
    "if spam==1:\n",
    "    print('Hello')\n",
    "    \n",
    "        \n",
    "elif spam==2:\n",
    "    print('Howdy')\n",
    "    \n",
    "else:\n",
    "    print('Greetings!')"
   ]
  },
  {
   "cell_type": "code",
   "execution_count": 42,
   "id": "57cc0eb6",
   "metadata": {},
   "outputs": [
    {
     "name": "stdout",
     "output_type": "stream",
     "text": [
      "Enter the value-3\n",
      "Greetings!\n"
     ]
    }
   ],
   "source": [
    "spam = int(input('Enter the value'))\n",
    "       \n",
    "if spam==1:\n",
    "    print('Hello')\n",
    "    \n",
    "        \n",
    "elif spam==2:\n",
    "    print('Howdy')\n",
    "    \n",
    "else:\n",
    "    print('Greetings!')"
   ]
  },
  {
   "cell_type": "markdown",
   "id": "9cb04708",
   "metadata": {},
   "source": [
    "# 9.If your programme is stuck in an endless loop, what keys you’ll press?"
   ]
  },
  {
   "cell_type": "markdown",
   "id": "69b39ae1",
   "metadata": {},
   "source": [
    "Ans-9) If programme is stuck in an endless loop, then ctrl+c(c stands cancel) or interrupt the kernel(square shape button) keys stop the programme."
   ]
  },
  {
   "cell_type": "markdown",
   "id": "0b49d686",
   "metadata": {},
   "source": [
    "# 10.How can you tell the difference between break and continue?"
   ]
  },
  {
   "cell_type": "markdown",
   "id": "46f3cff5",
   "metadata": {},
   "source": [
    "Ans-10) Break is use for stop the programme and the next line won't be executed, while continue uses for continue the next line and except the defined condition when comes under the programme.\n",
    "        eg-"
   ]
  },
  {
   "cell_type": "code",
   "execution_count": 63,
   "id": "7d731e91",
   "metadata": {},
   "outputs": [
    {
     "name": "stdout",
     "output_type": "stream",
     "text": [
      "R\n",
      "a\n",
      "s\n",
      "h\n",
      "The end\n"
     ]
    }
   ],
   "source": [
    "for val in 'Rashika':\n",
    "    if val=='i':\n",
    "        break\n",
    "    print(val)\n",
    "print('The end')"
   ]
  },
  {
   "cell_type": "code",
   "execution_count": 64,
   "id": "6301fb04",
   "metadata": {},
   "outputs": [
    {
     "name": "stdout",
     "output_type": "stream",
     "text": [
      "R\n",
      "a\n",
      "s\n",
      "h\n",
      "k\n",
      "a\n",
      "The end\n"
     ]
    }
   ],
   "source": [
    "for val in 'Rashika':\n",
    "    if val=='i':\n",
    "        continue\n",
    "    print(val)\n",
    "print('The end')"
   ]
  },
  {
   "cell_type": "markdown",
   "id": "73b2de20",
   "metadata": {},
   "source": [
    "# 11.In a for loop, what is the difference between range(10), range(0, 10), and range(0, 10, 1)?"
   ]
  },
  {
   "cell_type": "markdown",
   "id": "26878cd8",
   "metadata": {},
   "source": [
    "Ans-11) Baically there is no difference between the three functions given in the above question for range.\n",
    "\n",
    "\n",
    "There are three ways to call range() function: \n",
    "range(stop) takes one argument.\n",
    "range(start, stop) takes two arguments.\n",
    "range(start, stop, step) takes three arguments.\n",
    "\n",
    "When we call range() with one argument i.e. 10, will get a series of numbers that starts at 0 and includes every whole number up to 10, but not including, the number(10) that we've provided as the stop.\n",
    "\n",
    "\n",
    "When we call range() with two arguments, we get to decide not only where the series of numbers stops but also where it starts.\n",
    "\n",
    "\n",
    "When we call range() with three arguments, then we can choose not only where the series of numbers will start and stop but also how big the difference will be between one number and the next, in the question range(0, 10, 1) the third argument one is given we can change according our requirement."
   ]
  },
  {
   "cell_type": "markdown",
   "id": "ae88b83b",
   "metadata": {},
   "source": [
    "# 12.Write a short program that prints the numbers 1 to 10 using a for loop. Then write an equivalent program that prints the numbers 1 to 10 using a while loop."
   ]
  },
  {
   "cell_type": "code",
   "execution_count": 65,
   "id": "534b0e09",
   "metadata": {},
   "outputs": [
    {
     "name": "stdout",
     "output_type": "stream",
     "text": [
      "1\n",
      "2\n",
      "3\n",
      "4\n",
      "5\n",
      "6\n",
      "7\n",
      "8\n",
      "9\n",
      "10\n"
     ]
    }
   ],
   "source": [
    "#Ans-12)\n",
    "for i in range(1,11):\n",
    "    print(i)"
   ]
  },
  {
   "cell_type": "code",
   "execution_count": 73,
   "id": "9e0cf6cd",
   "metadata": {},
   "outputs": [
    {
     "name": "stdout",
     "output_type": "stream",
     "text": [
      "1\n",
      "2\n",
      "3\n",
      "4\n",
      "5\n",
      "6\n",
      "7\n",
      "8\n",
      "9\n",
      "10\n"
     ]
    }
   ],
   "source": [
    "i = 1\n",
    "while i < 11:\n",
    "    print(i)\n",
    "    i += 1"
   ]
  },
  {
   "cell_type": "markdown",
   "id": "f73dd44d",
   "metadata": {},
   "source": [
    "# 13.If you had a function named bacon() inside a module named spam, how would you call it after importing spam?"
   ]
  },
  {
   "cell_type": "markdown",
   "id": "3fb98993",
   "metadata": {},
   "source": [
    "Ans-13) spam.bacon()"
   ]
  },
  {
   "cell_type": "markdown",
   "id": "08eeefb6",
   "metadata": {},
   "source": [
    "                               Thank You! Keep Learning, Keep Growing."
   ]
  }
 ],
 "metadata": {
  "kernelspec": {
   "display_name": "Python 3 (ipykernel)",
   "language": "python",
   "name": "python3"
  },
  "language_info": {
   "codemirror_mode": {
    "name": "ipython",
    "version": 3
   },
   "file_extension": ".py",
   "mimetype": "text/x-python",
   "name": "python",
   "nbconvert_exporter": "python",
   "pygments_lexer": "ipython3",
   "version": "3.9.7"
  }
 },
 "nbformat": 4,
 "nbformat_minor": 5
}
