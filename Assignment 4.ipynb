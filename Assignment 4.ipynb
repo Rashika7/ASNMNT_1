{
 "cells": [
  {
   "cell_type": "markdown",
   "id": "dc0bb9fe",
   "metadata": {},
   "source": [
    "# 1.What exactly is []?"
   ]
  },
  {
   "cell_type": "markdown",
   "id": "7c402865",
   "metadata": {},
   "source": [
    "Ans-1) It's a method of defining list by square bracket."
   ]
  },
  {
   "cell_type": "markdown",
   "id": "09b8e0c2",
   "metadata": {},
   "source": [
    "# 2.In a list of values stored in a variable called spam, how would you assign the value 'hello' as the third value? (Assume [2, 4, 6, 8, 10] are in spam.)"
   ]
  },
  {
   "cell_type": "code",
   "execution_count": 1,
   "id": "280baefc",
   "metadata": {},
   "outputs": [],
   "source": [
    "#Ans-2)\n",
    "spam=[2,4,6,8,10]\n",
    "spam.insert(2,\"hello\")"
   ]
  },
  {
   "cell_type": "code",
   "execution_count": 2,
   "id": "c6f71379",
   "metadata": {},
   "outputs": [
    {
     "data": {
      "text/plain": [
       "[2, 4, 'hello', 6, 8, 10]"
      ]
     },
     "execution_count": 2,
     "metadata": {},
     "output_type": "execute_result"
    }
   ],
   "source": [
    "spam"
   ]
  },
  {
   "cell_type": "markdown",
   "id": "33a93e00",
   "metadata": {},
   "source": [
    "# Let's pretend the spam includes the list ['a','b','c','d'] for the next three queries."
   ]
  },
  {
   "cell_type": "markdown",
   "id": "c7219339",
   "metadata": {},
   "source": [
    "# 3.What is the value of spam[int(int('3' * 2) / 11)]?"
   ]
  },
  {
   "cell_type": "code",
   "execution_count": 3,
   "id": "3c83aed3",
   "metadata": {},
   "outputs": [
    {
     "data": {
      "text/plain": [
       "'d'"
      ]
     },
     "execution_count": 3,
     "metadata": {},
     "output_type": "execute_result"
    }
   ],
   "source": [
    "#Ans-3)\n",
    "spam=['a','b','c','d']\n",
    "spam[int(int('3' * 2) / 11)]"
   ]
  },
  {
   "cell_type": "markdown",
   "id": "fe71e829",
   "metadata": {},
   "source": [
    "# 4.What is the value of spam[-1]?"
   ]
  },
  {
   "cell_type": "code",
   "execution_count": 4,
   "id": "d0053efa",
   "metadata": {},
   "outputs": [
    {
     "data": {
      "text/plain": [
       "'d'"
      ]
     },
     "execution_count": 4,
     "metadata": {},
     "output_type": "execute_result"
    }
   ],
   "source": [
    "#Ans-4)\n",
    "spam[-1]"
   ]
  },
  {
   "cell_type": "markdown",
   "id": "0c535116",
   "metadata": {},
   "source": [
    "# 5.What is the value of spam[:2]?"
   ]
  },
  {
   "cell_type": "code",
   "execution_count": 5,
   "id": "f9f6313c",
   "metadata": {},
   "outputs": [
    {
     "data": {
      "text/plain": [
       "['a', 'b']"
      ]
     },
     "execution_count": 5,
     "metadata": {},
     "output_type": "execute_result"
    }
   ],
   "source": [
    "#Ans-5)\n",
    "spam[:2]"
   ]
  },
  {
   "cell_type": "markdown",
   "id": "6b82e9f7",
   "metadata": {},
   "source": [
    "# Let's pretend bacon has the list [3.14,'cat',11,'cat', True] for the next three questions."
   ]
  },
  {
   "cell_type": "markdown",
   "id": "e57924d0",
   "metadata": {},
   "source": [
    "# 6.What is the value of bacon.index('cat')?"
   ]
  },
  {
   "cell_type": "code",
   "execution_count": 6,
   "id": "94e65df1",
   "metadata": {},
   "outputs": [
    {
     "data": {
      "text/plain": [
       "1"
      ]
     },
     "execution_count": 6,
     "metadata": {},
     "output_type": "execute_result"
    }
   ],
   "source": [
    "#Ans-6) The output will be 1, index function gives first occurence of the list element.\n",
    "bacon=[3.14,'cat',11,'cat', True]\n",
    "bacon.index('cat')"
   ]
  },
  {
   "cell_type": "markdown",
   "id": "f91cb413",
   "metadata": {},
   "source": [
    "# 7.How does bacon.append(99) change the look of the list value in bacon?"
   ]
  },
  {
   "cell_type": "code",
   "execution_count": 7,
   "id": "fa6d6c70",
   "metadata": {},
   "outputs": [],
   "source": [
    "#Ans-7) The element 99 appear in the last of all the elements of list.\n",
    "bacon.append(99)"
   ]
  },
  {
   "cell_type": "code",
   "execution_count": 8,
   "id": "4ea29e29",
   "metadata": {},
   "outputs": [
    {
     "data": {
      "text/plain": [
       "[3.14, 'cat', 11, 'cat', True, 99]"
      ]
     },
     "execution_count": 8,
     "metadata": {},
     "output_type": "execute_result"
    }
   ],
   "source": [
    "bacon"
   ]
  },
  {
   "cell_type": "markdown",
   "id": "66a7bfb1",
   "metadata": {},
   "source": [
    "# 8.How does bacon.remove('cat') change the look of the list in bacon?"
   ]
  },
  {
   "cell_type": "code",
   "execution_count": 9,
   "id": "b5f15b16",
   "metadata": {},
   "outputs": [
    {
     "data": {
      "text/plain": [
       "[3.14, 11, 'cat', True]"
      ]
     },
     "execution_count": 9,
     "metadata": {},
     "output_type": "execute_result"
    }
   ],
   "source": [
    "#Ans-8) The below remove function, removes the first occurence of an element.\n",
    "bacon=[3.14,'cat',11,'cat', True]\n",
    "bacon.remove('cat')\n",
    "bacon"
   ]
  },
  {
   "cell_type": "markdown",
   "id": "b3a02a23",
   "metadata": {},
   "source": [
    "# 9.What are the list concatenation and list replication operators?"
   ]
  },
  {
   "cell_type": "markdown",
   "id": "2357d30f",
   "metadata": {},
   "source": [
    "Ans-9) The operator for list concatenation is +, while the operator for replication is *."
   ]
  },
  {
   "cell_type": "code",
   "execution_count": 10,
   "id": "005339c7",
   "metadata": {},
   "outputs": [
    {
     "data": {
      "text/plain": [
       "[2, 3, 4, 5, 'RASHI', 6, 7, 8, 9, 'PYTHON']"
      ]
     },
     "execution_count": 10,
     "metadata": {},
     "output_type": "execute_result"
    }
   ],
   "source": [
    "L1=[2,3,4,5,\"RASHI\"]\n",
    "L2=[6,7,8,9,\"PYTHON\"]\n",
    "L1+L2"
   ]
  },
  {
   "cell_type": "code",
   "execution_count": 12,
   "id": "925a5194",
   "metadata": {},
   "outputs": [
    {
     "data": {
      "text/plain": [
       "[6, 7, 8, 9, 'PYTHON', 6, 7, 8, 9, 'PYTHON']"
      ]
     },
     "execution_count": 12,
     "metadata": {},
     "output_type": "execute_result"
    }
   ],
   "source": [
    "L2*2"
   ]
  },
  {
   "cell_type": "code",
   "execution_count": 14,
   "id": "3fedd346",
   "metadata": {},
   "outputs": [
    {
     "data": {
      "text/plain": [
       "[2, 3, 4, 5, 'RASHI', 2, 3, 4, 5, 'RASHI', 2, 3, 4, 5, 'RASHI']"
      ]
     },
     "execution_count": 14,
     "metadata": {},
     "output_type": "execute_result"
    }
   ],
   "source": [
    "L1*3"
   ]
  },
  {
   "cell_type": "markdown",
   "id": "e57e6c3b",
   "metadata": {},
   "source": [
    "# 10.What is difference between the list methods append() and insert()?"
   ]
  },
  {
   "cell_type": "markdown",
   "id": "a4f11b15",
   "metadata": {},
   "source": [
    "Ans-10)\n",
    "\n",
    "The list method append(), add the element in the end of all list elements. append require only one argument element.\n",
    "\n",
    "The list method insert(), add the element at any place of list by giving place of the element, insert takes two arguments: position and element."
   ]
  },
  {
   "cell_type": "markdown",
   "id": "75d9d104",
   "metadata": {},
   "source": [
    "# 11.What are the two methods for removing items from a list?"
   ]
  },
  {
   "cell_type": "markdown",
   "id": "247a1a7b",
   "metadata": {},
   "source": [
    "Ans-11) The two methods for removing items from a list are: pop and remove.\n",
    "    \n",
    "    The pop() method removes an element from the list based on the index given.\n",
    "    \n",
    "    The remove() method removes the given very first element matching from the list."
   ]
  },
  {
   "cell_type": "markdown",
   "id": "575dee9e",
   "metadata": {},
   "source": [
    "# 12.Describe how list values and string values are identical."
   ]
  },
  {
   "cell_type": "code",
   "execution_count": 15,
   "id": "145d2064",
   "metadata": {},
   "outputs": [],
   "source": [
    "#Ans-12) \n",
    "l=[1,1,1,1]\n",
    "s=\"1111\""
   ]
  },
  {
   "cell_type": "code",
   "execution_count": 16,
   "id": "d9966344",
   "metadata": {},
   "outputs": [
    {
     "data": {
      "text/plain": [
       "4"
      ]
     },
     "execution_count": 16,
     "metadata": {},
     "output_type": "execute_result"
    }
   ],
   "source": [
    "len(l)"
   ]
  },
  {
   "cell_type": "code",
   "execution_count": 17,
   "id": "4e68cb9f",
   "metadata": {},
   "outputs": [
    {
     "data": {
      "text/plain": [
       "4"
      ]
     },
     "execution_count": 17,
     "metadata": {},
     "output_type": "execute_result"
    }
   ],
   "source": [
    "len(s)"
   ]
  },
  {
   "cell_type": "code",
   "execution_count": 20,
   "id": "7634da09",
   "metadata": {},
   "outputs": [
    {
     "data": {
      "text/plain": [
       "1"
      ]
     },
     "execution_count": 20,
     "metadata": {},
     "output_type": "execute_result"
    }
   ],
   "source": [
    "l[0]"
   ]
  },
  {
   "cell_type": "code",
   "execution_count": 19,
   "id": "641522a5",
   "metadata": {},
   "outputs": [
    {
     "data": {
      "text/plain": [
       "'1'"
      ]
     },
     "execution_count": 19,
     "metadata": {},
     "output_type": "execute_result"
    }
   ],
   "source": [
    "s=\"1111\"\n",
    "s[0]"
   ]
  },
  {
   "cell_type": "code",
   "execution_count": 21,
   "id": "58600350",
   "metadata": {},
   "outputs": [
    {
     "data": {
      "text/plain": [
       "True"
      ]
     },
     "execution_count": 21,
     "metadata": {},
     "output_type": "execute_result"
    }
   ],
   "source": [
    "l[0]==int(s[0])"
   ]
  },
  {
   "cell_type": "code",
   "execution_count": 23,
   "id": "5ee540b1",
   "metadata": {},
   "outputs": [
    {
     "data": {
      "text/plain": [
       "[1, 1, 1, 1]"
      ]
     },
     "execution_count": 23,
     "metadata": {},
     "output_type": "execute_result"
    }
   ],
   "source": [
    "l[0:]"
   ]
  },
  {
   "cell_type": "code",
   "execution_count": 24,
   "id": "1f8c86ea",
   "metadata": {},
   "outputs": [
    {
     "data": {
      "text/plain": [
       "'1111'"
      ]
     },
     "execution_count": 24,
     "metadata": {},
     "output_type": "execute_result"
    }
   ],
   "source": [
    "s[0:]"
   ]
  },
  {
   "cell_type": "markdown",
   "id": "2506ea4f",
   "metadata": {},
   "source": [
    "The above few methods executed to find the list and string values are identical."
   ]
  },
  {
   "cell_type": "markdown",
   "id": "e23edd1d",
   "metadata": {},
   "source": [
    "# 13.What's the difference between tuples and lists?"
   ]
  },
  {
   "cell_type": "markdown",
   "id": "b025fd70",
   "metadata": {},
   "source": [
    "Ans-13) \n",
    "\n",
    "Tuples are immutable, and represents by bracket'()'.\n",
    "\n",
    "lists are mutable, and represents by two types: [], list()."
   ]
  },
  {
   "cell_type": "markdown",
   "id": "e3bc9a5c",
   "metadata": {},
   "source": [
    "# 14.How do you type a tuple value that only contains the integer 42?"
   ]
  },
  {
   "cell_type": "code",
   "execution_count": 25,
   "id": "1f580e3e",
   "metadata": {},
   "outputs": [
    {
     "data": {
      "text/plain": [
       "(42,)"
      ]
     },
     "execution_count": 25,
     "metadata": {},
     "output_type": "execute_result"
    }
   ],
   "source": [
    "t=(42,)\n",
    "t"
   ]
  },
  {
   "cell_type": "code",
   "execution_count": 26,
   "id": "d1dd2272",
   "metadata": {},
   "outputs": [
    {
     "data": {
      "text/plain": [
       "tuple"
      ]
     },
     "execution_count": 26,
     "metadata": {},
     "output_type": "execute_result"
    }
   ],
   "source": [
    "type(t)"
   ]
  },
  {
   "cell_type": "markdown",
   "id": "12bbfc45",
   "metadata": {},
   "source": [
    "# 15.How do you get a list value's tuple form? How do you get a tuple value's list form?"
   ]
  },
  {
   "cell_type": "code",
   "execution_count": 28,
   "id": "ccddb139",
   "metadata": {},
   "outputs": [
    {
     "data": {
      "text/plain": [
       "(4, 5, 6, 7)"
      ]
     },
     "execution_count": 28,
     "metadata": {},
     "output_type": "execute_result"
    }
   ],
   "source": [
    "#Ans-15) \n",
    "l=[4,5,6,7]\n",
    "res=tuple(l)\n",
    "res"
   ]
  },
  {
   "cell_type": "code",
   "execution_count": 29,
   "id": "480bb7ed",
   "metadata": {},
   "outputs": [
    {
     "data": {
      "text/plain": [
       "[7, 8, 9, 10]"
      ]
     },
     "execution_count": 29,
     "metadata": {},
     "output_type": "execute_result"
    }
   ],
   "source": [
    "t=(7,8,9,10)\n",
    "l=[]\n",
    "for i in t:\n",
    "    if type(t)==tuple:\n",
    "        l.append(i)\n",
    "l"
   ]
  },
  {
   "cell_type": "markdown",
   "id": "4e4aa4b9",
   "metadata": {},
   "source": [
    "# 16.Variables that \"contain\" list values are not necessarily lists themselves. Instead, what do they contain?"
   ]
  },
  {
   "cell_type": "markdown",
   "id": "ec9302dd",
   "metadata": {},
   "source": [
    "Ans-16)\n",
    "\n",
    "var= \"rashi\"\n",
    "\n",
    "var2=\"r1\"\n",
    "\n",
    "var3=\"r2\"\n",
    "\n",
    "all the above variables contain string as a list values.\n",
    "\n",
    "list=[\"rashi\",\"r1\",\"r2\"]"
   ]
  },
  {
   "cell_type": "markdown",
   "id": "a4aeb82f",
   "metadata": {},
   "source": [
    "# 17.How do you distinguish between copy.copy() and copy.deepcopy()?"
   ]
  },
  {
   "cell_type": "code",
   "execution_count": 31,
   "id": "2cc07cd2",
   "metadata": {},
   "outputs": [],
   "source": [
    "#Ans-17) Let's understand with the help of example:\n",
    "\n",
    "import copy\n",
    "L1 = [[6,9,8]]\n",
    "C = copy.copy(L1)\n",
    "C[0].append(10)"
   ]
  },
  {
   "cell_type": "code",
   "execution_count": 32,
   "id": "44ff1e94",
   "metadata": {},
   "outputs": [
    {
     "data": {
      "text/plain": [
       "[[6, 9, 8, 10]]"
      ]
     },
     "execution_count": 32,
     "metadata": {},
     "output_type": "execute_result"
    }
   ],
   "source": [
    "C"
   ]
  },
  {
   "cell_type": "code",
   "execution_count": 33,
   "id": "02ce1c24",
   "metadata": {},
   "outputs": [
    {
     "data": {
      "text/plain": [
       "[[6, 9, 8, 10]]"
      ]
     },
     "execution_count": 33,
     "metadata": {},
     "output_type": "execute_result"
    }
   ],
   "source": [
    "L1"
   ]
  },
  {
   "cell_type": "code",
   "execution_count": 34,
   "id": "cd2bff2a",
   "metadata": {},
   "outputs": [],
   "source": [
    "L2 = [[6,9,11]]\n",
    "c = copy.deepcopy(L2)\n",
    "c[0].append(12)"
   ]
  },
  {
   "cell_type": "code",
   "execution_count": 35,
   "id": "fcf87ac4",
   "metadata": {},
   "outputs": [
    {
     "data": {
      "text/plain": [
       "[[6, 9, 11, 12]]"
      ]
     },
     "execution_count": 35,
     "metadata": {},
     "output_type": "execute_result"
    }
   ],
   "source": [
    "c"
   ]
  },
  {
   "cell_type": "code",
   "execution_count": 36,
   "id": "b8b4cc8e",
   "metadata": {},
   "outputs": [
    {
     "data": {
      "text/plain": [
       "[[6, 9, 11]]"
      ]
     },
     "execution_count": 36,
     "metadata": {},
     "output_type": "execute_result"
    }
   ],
   "source": [
    "L2"
   ]
  },
  {
   "cell_type": "markdown",
   "id": "28b04f78",
   "metadata": {},
   "source": [
    "from the above example, copy.copy method reflects changes in previous list, while copy.deepcopy method only changes in the defined newvariable not in the existing or previous list."
   ]
  },
  {
   "cell_type": "markdown",
   "id": "3e2b8811",
   "metadata": {},
   "source": [
    "                                   Keep Learning, Keep Growing."
   ]
  }
 ],
 "metadata": {
  "kernelspec": {
   "display_name": "Python 3 (ipykernel)",
   "language": "python",
   "name": "python3"
  },
  "language_info": {
   "codemirror_mode": {
    "name": "ipython",
    "version": 3
   },
   "file_extension": ".py",
   "mimetype": "text/x-python",
   "name": "python",
   "nbconvert_exporter": "python",
   "pygments_lexer": "ipython3",
   "version": "3.9.7"
  }
 },
 "nbformat": 4,
 "nbformat_minor": 5
}
