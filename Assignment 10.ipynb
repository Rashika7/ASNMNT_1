{
 "cells": [
  {
   "cell_type": "markdown",
   "id": "cddefb49",
   "metadata": {},
   "source": [
    "# 1. How do you distinguish between shutil.copy() and shutil.copytree()?"
   ]
  },
  {
   "cell_type": "markdown",
   "id": "3a012260",
   "metadata": {},
   "source": [
    "Ans-1) shutil.copy () use to copy a single file, while shutil.copytree () use to copy an entire folder and every folder and file contained in it."
   ]
  },
  {
   "cell_type": "markdown",
   "id": "2f146ac0",
   "metadata": {},
   "source": [
    "# 2. What function is used to rename files?"
   ]
  },
  {
   "cell_type": "code",
   "execution_count": 2,
   "id": "78748843",
   "metadata": {},
   "outputs": [
    {
     "name": "stdout",
     "output_type": "stream",
     "text": [
      "Before Renaming: ['.astropy', '.conda', '.condarc', '.continuum', '.gitconfig', '.idlerc', '.ipynb_checkpoints', '.ipython', '.jupyter', '.matplotlib', '3D Objects', 'anaconda3', 'AppData', 'Application Data', 'Assignment 10.ipynb', 'Assignment 2.ipynb', 'Assignment 3.ipynb', 'Assignment 4.ipynb', 'Assignment 5.ipynb', 'Assignment 6.ipynb', 'Assignment 8.ipynb', 'Assignment 9.ipynb', 'BASIC P1.ipynb', 'Basic P2.ipynb', 'BASIC P3.ipynb', 'Capture.PNG', 'cars.PNG', 'Codes for further use.ipynb', 'Codes for further use1.ipynb', 'Contacts', 'Cookies', 'DCOM305_DMGT310_ENTREPRENEURSHIP_AND_SMALL_BUSINESS_MANAGEMENT.rar', 'Desktop', 'Documents', 'Downloads', 'F1.ipynb', 'F2.ipynb', 'Favorites', 'file 1.pdf', 'file 4.pdf', 'file 5.pdf', 'file-sample.doc', 'glass.data', 'hfile.pdf', 'Inheritance of class.ipynb', 'IntelGraphicsProfiles', 'JGT.ipynb', 'job post.PNG', 'Lambda Function.ipynb', 'Links', 'Local Settings', 'm.pdf', 'MicrosoftEdgeBackups', 'Music', 'My Documents', 'mysql and python connection.ipynb', 'mysql-workbench-community-8.0.28-winx64.msi', 'NetHood', 'newfile1.pdf', 'newfile4.pdf', 'newnewnfile.pdf', 'NTUSER.DAT', 'ntuser.dat.LOG1', 'ntuser.dat.LOG2', 'NTUSER.DAT{53b39e88-18c4-11ea-a811-000d3aa4692b}.TM.blf', 'NTUSER.DAT{53b39e88-18c4-11ea-a811-000d3aa4692b}.TMContainer00000000000000000001.regtrans-ms', 'NTUSER.DAT{53b39e88-18c4-11ea-a811-000d3aa4692b}.TMContainer00000000000000000002.regtrans-ms', 'ntuser.ini', 'OneDrive', 'peacock.jpg', 'Pictures', 'Postman', 'PrintHood', 'PycharmProjects', 'Python Task.ipynb', 'Python Test.ipynb', 'python1.txt', 'pythonfl', \"Rashika's resume (DA).pdf\", 'Recent', 'sample.pdf', 'Saved Games', 'Searches', 'SendTo', 'Start Menu', 'Templates', 'Test score.PNG', 'test.log', 'test.py', 'test21.txt', 'TESTFILE.py', 'Tracing', 'Tracker.ipynb', 'Untitled.ipynb', 'Untitled1.ipynb', 'Untitled2.ipynb', 'Untitled3.ipynb', 'Untitled4.ipynb', 'Untitled6.ipynb', 'Untitled7.ipynb', 'Untitled8.ipynb', 'Videos', 'Xplode_Dynamic.mp4', '__pycache__']\n"
     ]
    }
   ],
   "source": [
    "#Ans-2) os module use to rename files in Python by rename function.\n",
    "import os\n",
    "print(f\"Before Renaming: {os.listdir()}\")"
   ]
  },
  {
   "cell_type": "code",
   "execution_count": 3,
   "id": "9b6695d1",
   "metadata": {},
   "outputs": [
    {
     "name": "stdout",
     "output_type": "stream",
     "text": [
      "After Renaming: ['.astropy', '.conda', '.condarc', '.continuum', '.gitconfig', '.idlerc', '.ipynb_checkpoints', '.ipython', '.jupyter', '.matplotlib', '3D Objects', 'anaconda3', 'AppData', 'Application Data', 'Assignment 10.ipynb', 'Assignment 2.ipynb', 'Assignment 3.ipynb', 'Assignment 4.ipynb', 'Assignment 5.ipynb', 'Assignment 6.ipynb', 'Assignment 8.ipynb', 'Assignment 9.ipynb', 'BASIC P1.ipynb', 'Basic P2.ipynb', 'BASIC P3.ipynb', 'Capture.PNG', 'cars.PNG', 'Codes for further use.ipynb', 'Codes for further use1.ipynb', 'Contacts', 'Cookies', 'DCOM305_DMGT310_ENTREPRENEURSHIP_AND_SMALL_BUSINESS_MANAGEMENT.rar', 'Desktop', 'Documents', 'Downloads', 'F1.ipynb', 'F2.ipynb', 'Favorites', 'file 1.pdf', 'file 4.pdf', 'file 5.pdf', 'file-sample.doc', 'glass.data', 'hfile.pdf', 'Inheritance of class.ipynb', 'IntelGraphicsProfiles', 'JGT.ipynb', 'job post.PNG', 'Lambda Function.ipynb', 'Links', 'Local Settings', 'm.pdf', 'MicrosoftEdgeBackups', 'Music', 'My Documents', 'mysql and python connection.ipynb', 'mysql-workbench-community-8.0.28-winx64.msi', 'NetHood', 'newfile1.pdf', 'newfile4.pdf', 'newnewnfile.pdf', 'NTUSER.DAT', 'ntuser.dat.LOG1', 'ntuser.dat.LOG2', 'NTUSER.DAT{53b39e88-18c4-11ea-a811-000d3aa4692b}.TM.blf', 'NTUSER.DAT{53b39e88-18c4-11ea-a811-000d3aa4692b}.TMContainer00000000000000000001.regtrans-ms', 'NTUSER.DAT{53b39e88-18c4-11ea-a811-000d3aa4692b}.TMContainer00000000000000000002.regtrans-ms', 'ntuser.ini', 'OneDrive', 'peacock.jpg', 'Pictures', 'Postman', 'PrintHood', 'PycharmProjects', 'Python Task.ipynb', 'Python Test.ipynb', 'python1.txt', 'pythonfl', \"Rashika's resume (DA).pdf\", 'Recent', 'sample.pdf', 'Saved Games', 'Searches', 'SendTo', 'Start Menu', 'Templates', 'Test score.PNG', 'test.log', 'test.py', 'test21.txt', 'TESTFILE.py', 'titled7.ipynb', 'Tracing', 'Tracker.ipynb', 'Untitled.ipynb', 'Untitled1.ipynb', 'Untitled2.ipynb', 'Untitled3.ipynb', 'Untitled4.ipynb', 'Untitled6.ipynb', 'Untitled8.ipynb', 'Videos', 'Xplode_Dynamic.mp4', '__pycache__']\n"
     ]
    }
   ],
   "source": [
    "os.rename('Untitled7.ipynb', 'titled7.ipynb')\n",
    "print(f\"After Renaming: {os.listdir()}\")"
   ]
  },
  {
   "cell_type": "markdown",
   "id": "edbac582",
   "metadata": {},
   "source": [
    "# 3. What is the difference between the delete functions in the send2trash and shutil modules?"
   ]
  },
  {
   "cell_type": "markdown",
   "id": "826b8490",
   "metadata": {},
   "source": [
    "Ans-3) Send2Trash is a small package in python that sends files to the Trash or Recycle Bin, while shutil functions will permanently delete files and folders."
   ]
  },
  {
   "cell_type": "markdown",
   "id": "392f763c",
   "metadata": {},
   "source": [
    "# 4.ZipFile objects have a close() method just like File objects’ close() method. What ZipFile method is equivalent to File objects’ open() method?"
   ]
  },
  {
   "cell_type": "markdown",
   "id": "ac162fb1",
   "metadata": {},
   "source": [
    "Ans-4) The zipfile.ZipFile() function is equivalent to the open() function; it takes two arguments first argument is filename, and the second argument is read, write, or append mode of file."
   ]
  },
  {
   "cell_type": "markdown",
   "id": "a1cc5366",
   "metadata": {},
   "source": [
    "# 5. Create a programme that searches a folder tree for files with a certain file extension (such as .pdf or .jpg). Copy these files from whatever location they are in to a new folder."
   ]
  },
  {
   "cell_type": "code",
   "execution_count": 26,
   "id": "d59477d3",
   "metadata": {},
   "outputs": [],
   "source": [
    "#Ans-5) \n",
    "import os, shutil\n",
    "\n",
    "def sc(source, extensions, destinationFolder):\n",
    "    folder = os.path.abspath(source)\n",
    "    destinationFolder = os.path.abspath(destinationFolder)\n",
    "    print('Looking in', source, 'for files with extensions of', ', '.join(extensions))\n",
    "    for foldername, subfolders, filenames in os.walk(source):\n",
    "        for filename in filenames:\n",
    "            name, extension = os.path.splitext(filename)\n",
    "            if extension in extensions:\n",
    "                fileAbsPath = foldername + os.path.sep + filename\n",
    "                print('Coping', fileAbsPath, 'to', destinationFolder)\n",
    "                shutil.copy(fileAbsPath, destinationFolder)"
   ]
  },
  {
   "cell_type": "code",
   "execution_count": 27,
   "id": "5c5078bb",
   "metadata": {},
   "outputs": [],
   "source": [
    "extensions = ['.pdf','.jpg']"
   ]
  },
  {
   "cell_type": "code",
   "execution_count": 28,
   "id": "5f1f4ca0",
   "metadata": {},
   "outputs": [],
   "source": [
    "source = 'C:/Users/Rashika/Desktop/source'"
   ]
  },
  {
   "cell_type": "code",
   "execution_count": 29,
   "id": "ecb5a6d0",
   "metadata": {},
   "outputs": [],
   "source": [
    "destinationFolder = 'C:/Users/Rashika/Desktop/destinationFolder'"
   ]
  },
  {
   "cell_type": "code",
   "execution_count": 30,
   "id": "582814fd",
   "metadata": {},
   "outputs": [
    {
     "name": "stdout",
     "output_type": "stream",
     "text": [
      "Looking in C:/Users/Rashika/Desktop/source for files with extensions of .pdf, .jpg\n"
     ]
    }
   ],
   "source": [
    "sc(source, extensions, destinationFolder)"
   ]
  },
  {
   "cell_type": "markdown",
   "id": "0b5f7b3e",
   "metadata": {},
   "source": [
    "                                Keep Learning, Keep Growing."
   ]
  }
 ],
 "metadata": {
  "kernelspec": {
   "display_name": "Python 3 (ipykernel)",
   "language": "python",
   "name": "python3"
  },
  "language_info": {
   "codemirror_mode": {
    "name": "ipython",
    "version": 3
   },
   "file_extension": ".py",
   "mimetype": "text/x-python",
   "name": "python",
   "nbconvert_exporter": "python",
   "pygments_lexer": "ipython3",
   "version": "3.9.7"
  }
 },
 "nbformat": 4,
 "nbformat_minor": 5
}
