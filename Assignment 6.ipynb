{
 "cells": [
  {
   "cell_type": "markdown",
   "id": "843e815d",
   "metadata": {},
   "source": [
    "# 1.What are escape characters, and how do you use them?"
   ]
  },
  {
   "cell_type": "code",
   "execution_count": 2,
   "id": "dd6a5e06",
   "metadata": {},
   "outputs": [
    {
     "name": "stdout",
     "output_type": "stream",
     "text": [
      "This is Rashika's laptop\n"
     ]
    }
   ],
   "source": [
    "#Ans-1)\n",
    "#Single quote escape character\n",
    "print('This is Rashika\\'s laptop')"
   ]
  },
  {
   "cell_type": "code",
   "execution_count": 3,
   "id": "26ec3e26",
   "metadata": {},
   "outputs": [
    {
     "name": "stdout",
     "output_type": "stream",
     "text": [
      "He told me, \"Go office\", where i worked\n"
     ]
    }
   ],
   "source": [
    "#Double quote escape character\n",
    "print(\"He told me, \\\"Go office\\\", where i worked\")"
   ]
  },
  {
   "cell_type": "code",
   "execution_count": 4,
   "id": "48887895",
   "metadata": {},
   "outputs": [
    {
     "name": "stdout",
     "output_type": "stream",
     "text": [
      "\tThis is fabulous\n"
     ]
    }
   ],
   "source": [
    "#Tab escape character\n",
    "print('\\tThis is fabulous')"
   ]
  },
  {
   "cell_type": "code",
   "execution_count": 5,
   "id": "c763783f",
   "metadata": {},
   "outputs": [
    {
     "name": "stdout",
     "output_type": "stream",
     "text": [
      " She is good. \n",
      " she helps people and dedicated for society. \n",
      " she wants to learn python, so that able to create models for problems arises in our society, to complete daily challenges\n"
     ]
    }
   ],
   "source": [
    "#newline (line break) escape character\n",
    "print(' She is good. \\n she helps people and dedicated for society. \\n she wants to learn python, so that able to create models for problems arises in our society, to complete daily challenges') "
   ]
  },
  {
   "cell_type": "markdown",
   "id": "cf65c374",
   "metadata": {},
   "source": [
    "# 2.What do the escape characters n and t stand for?"
   ]
  },
  {
   "cell_type": "markdown",
   "id": "39b2e6b8",
   "metadata": {},
   "source": [
    "Ans-2) n and t stand newline and tab respectively."
   ]
  },
  {
   "cell_type": "markdown",
   "id": "07b5f43c",
   "metadata": {},
   "source": [
    "# 3.What is the way to include backslash characters in a string?"
   ]
  },
  {
   "cell_type": "markdown",
   "id": "600b1ee0",
   "metadata": {},
   "source": [
    "Ans-3)\n",
    "The backslash (\"\\\") character is a special escape character used to indicate other special characters such as new lines (\\n), tabs (\\t), or quotation marks (\\\") and(\\')."
   ]
  },
  {
   "cell_type": "markdown",
   "id": "f0339f15",
   "metadata": {},
   "source": [
    "# 4.The string \"Howl's Moving Castle\" is a correct value. Why isn't the single quote character in the word Howl's not escaped a problem?"
   ]
  },
  {
   "cell_type": "code",
   "execution_count": 6,
   "id": "f360272a",
   "metadata": {},
   "outputs": [
    {
     "data": {
      "text/plain": [
       "\"Howl's Moving Castle\""
      ]
     },
     "execution_count": 6,
     "metadata": {},
     "output_type": "execute_result"
    }
   ],
   "source": [
    "#Ans-4)\n",
    "string=\"Howl's Moving Castle\" \n",
    "string"
   ]
  },
  {
   "cell_type": "markdown",
   "id": "02de9c98",
   "metadata": {},
   "source": [
    "The single quote character in the word Howl's not escaped a problem, because double quote used to represent the string and inner apostrophe by single quote."
   ]
  },
  {
   "cell_type": "markdown",
   "id": "e43cfdbc",
   "metadata": {},
   "source": [
    "# 5.How do you write a string of newlines if you don't want to use the n character?"
   ]
  },
  {
   "cell_type": "code",
   "execution_count": 8,
   "id": "3fe8dfde",
   "metadata": {},
   "outputs": [],
   "source": [
    "#Ans-5) Use parameter end='\\n' in print function."
   ]
  },
  {
   "cell_type": "code",
   "execution_count": 9,
   "id": "ec0047f1",
   "metadata": {},
   "outputs": [
    {
     "name": "stdout",
     "output_type": "stream",
     "text": [
      "she is lover of python\n",
      "python is a compiler and interpreter\n",
      "easy to learn, simple programming language as compare to other languages\n"
     ]
    }
   ],
   "source": [
    "print(\"she is lover of python\",end = '\\n')\n",
    "print(\"python is a compiler and interpreter\",end='\\n')\n",
    "print(\"easy to learn, simple programming language as compare to other languages\")"
   ]
  },
  {
   "cell_type": "markdown",
   "id": "5ba890b6",
   "metadata": {},
   "source": [
    "# 6. What are the values of the given expressions?\n",
    "\n",
    "'Hello, world!'[1]\n",
    "\n",
    "'Hello, world!'[0:5]\n",
    "\n",
    "'Hello, world!'[:5]\n",
    "\n",
    "'Hello, world!'[3:]"
   ]
  },
  {
   "cell_type": "code",
   "execution_count": 10,
   "id": "b2d624fa",
   "metadata": {},
   "outputs": [
    {
     "data": {
      "text/plain": [
       "'e'"
      ]
     },
     "execution_count": 10,
     "metadata": {},
     "output_type": "execute_result"
    }
   ],
   "source": [
    "#Ans-6)\n",
    "'Hello, world!'[1]"
   ]
  },
  {
   "cell_type": "code",
   "execution_count": 11,
   "id": "f54f5029",
   "metadata": {},
   "outputs": [
    {
     "data": {
      "text/plain": [
       "'Hello'"
      ]
     },
     "execution_count": 11,
     "metadata": {},
     "output_type": "execute_result"
    }
   ],
   "source": [
    "'Hello, world!'[0:5]"
   ]
  },
  {
   "cell_type": "code",
   "execution_count": 12,
   "id": "03bedb3a",
   "metadata": {},
   "outputs": [
    {
     "data": {
      "text/plain": [
       "'Hello'"
      ]
     },
     "execution_count": 12,
     "metadata": {},
     "output_type": "execute_result"
    }
   ],
   "source": [
    "'Hello, world!'[:5]"
   ]
  },
  {
   "cell_type": "code",
   "execution_count": 13,
   "id": "67f1b2f0",
   "metadata": {},
   "outputs": [
    {
     "data": {
      "text/plain": [
       "'lo, world!'"
      ]
     },
     "execution_count": 13,
     "metadata": {},
     "output_type": "execute_result"
    }
   ],
   "source": [
    "'Hello, world!'[3:]"
   ]
  },
  {
   "cell_type": "markdown",
   "id": "61dd53ec",
   "metadata": {},
   "source": [
    "# 7. What are the values of the following expressions?\n",
    "\n",
    "'Hello'.upper()\n",
    "\n",
    "'Hello'.upper().isupper()\n",
    "\n",
    "'Hello'.upper().lower()"
   ]
  },
  {
   "cell_type": "markdown",
   "id": "01f3e47c",
   "metadata": {},
   "source": [
    "#Ans-7) first expression all the characters changed in to upper case, second expression checks all the characters is in upper case or not, and the third expression changed all characters in lower case of string \"hello\".\n"
   ]
  },
  {
   "cell_type": "code",
   "execution_count": 14,
   "id": "eac0760d",
   "metadata": {},
   "outputs": [
    {
     "data": {
      "text/plain": [
       "'HELLO'"
      ]
     },
     "execution_count": 14,
     "metadata": {},
     "output_type": "execute_result"
    }
   ],
   "source": [
    "'Hello'.upper()"
   ]
  },
  {
   "cell_type": "code",
   "execution_count": 15,
   "id": "8e0db15a",
   "metadata": {},
   "outputs": [
    {
     "data": {
      "text/plain": [
       "True"
      ]
     },
     "execution_count": 15,
     "metadata": {},
     "output_type": "execute_result"
    }
   ],
   "source": [
    "'Hello'.upper().isupper()"
   ]
  },
  {
   "cell_type": "code",
   "execution_count": 16,
   "id": "01922c1e",
   "metadata": {},
   "outputs": [
    {
     "data": {
      "text/plain": [
       "'hello'"
      ]
     },
     "execution_count": 16,
     "metadata": {},
     "output_type": "execute_result"
    }
   ],
   "source": [
    "'Hello'.upper().lower()"
   ]
  },
  {
   "cell_type": "markdown",
   "id": "4a783611",
   "metadata": {},
   "source": [
    "# 8.What are the values of the following expressions?\n",
    "\n",
    "'Remember, remember, the fifth of July.'.split()\n",
    "\n",
    "'-'.join('There can only one.'.split())"
   ]
  },
  {
   "cell_type": "code",
   "execution_count": 17,
   "id": "2ae44383",
   "metadata": {},
   "outputs": [
    {
     "data": {
      "text/plain": [
       "['Remember,', 'remember,', 'the', 'fifth', 'of', 'July.']"
      ]
     },
     "execution_count": 17,
     "metadata": {},
     "output_type": "execute_result"
    }
   ],
   "source": [
    "#Ans-8) the first string changed in to string.\n",
    "'Remember, remember, the fifth of July.'.split()\n"
   ]
  },
  {
   "cell_type": "code",
   "execution_count": 18,
   "id": "00e2a26c",
   "metadata": {},
   "outputs": [
    {
     "data": {
      "text/plain": [
       "'There-can-only-one.'"
      ]
     },
     "execution_count": 18,
     "metadata": {},
     "output_type": "execute_result"
    }
   ],
   "source": [
    "# one desh add after each word.\n",
    "'-'.join('There can only one.'.split())"
   ]
  },
  {
   "cell_type": "markdown",
   "id": "322b47ff",
   "metadata": {},
   "source": [
    "# 9.What are the methods for right-justifying, left-justifying, and centering a string?"
   ]
  },
  {
   "cell_type": "markdown",
   "id": "7e80c6c4",
   "metadata": {},
   "source": [
    "Ans-9) for right justifying use- rjust(), left justifying - ljust(), and centering- center()"
   ]
  },
  {
   "cell_type": "code",
   "execution_count": 19,
   "id": "1937db24",
   "metadata": {},
   "outputs": [
    {
     "data": {
      "text/plain": [
       "'*************************I am doing well'"
      ]
     },
     "execution_count": 19,
     "metadata": {},
     "output_type": "execute_result"
    }
   ],
   "source": [
    "# right justified\n",
    "str =\"I am doing well\"\n",
    "str.rjust(40,'*')"
   ]
  },
  {
   "cell_type": "code",
   "execution_count": 20,
   "id": "7d4979a6",
   "metadata": {},
   "outputs": [
    {
     "data": {
      "text/plain": [
       "'I am doing well*************************'"
      ]
     },
     "execution_count": 20,
     "metadata": {},
     "output_type": "execute_result"
    }
   ],
   "source": [
    "# left justified\n",
    "str =\"I am doing well\"\n",
    "str.ljust(40,'*')"
   ]
  },
  {
   "cell_type": "code",
   "execution_count": 21,
   "id": "e06a7d68",
   "metadata": {},
   "outputs": [
    {
     "data": {
      "text/plain": [
       "'************I am doing well*************'"
      ]
     },
     "execution_count": 21,
     "metadata": {},
     "output_type": "execute_result"
    }
   ],
   "source": [
    "# center\n",
    "str =\"I am doing well\"\n",
    "str.center(40,'*')"
   ]
  },
  {
   "cell_type": "markdown",
   "id": "4b6dd58f",
   "metadata": {},
   "source": [
    "# 10.What is the best way to remove whitespace characters from the start or end?"
   ]
  },
  {
   "cell_type": "markdown",
   "id": "386183a7",
   "metadata": {},
   "source": [
    "Ans-10) The best way to remove whitespace characters from the start or end is lstrip() and rstrip()."
   ]
  },
  {
   "cell_type": "code",
   "execution_count": 22,
   "id": "3769eb77",
   "metadata": {},
   "outputs": [
    {
     "data": {
      "text/plain": [
       "'I am doing well             '"
      ]
     },
     "execution_count": 22,
     "metadata": {},
     "output_type": "execute_result"
    }
   ],
   "source": [
    "str1 =\"          I am doing well             \"\n",
    "str1.lstrip()"
   ]
  },
  {
   "cell_type": "code",
   "execution_count": 23,
   "id": "d8e88fae",
   "metadata": {},
   "outputs": [
    {
     "data": {
      "text/plain": [
       "'          I am doing well'"
      ]
     },
     "execution_count": 23,
     "metadata": {},
     "output_type": "execute_result"
    }
   ],
   "source": [
    "str1 =\"          I am doing well             \"\n",
    "str1.rstrip()"
   ]
  },
  {
   "cell_type": "markdown",
   "id": "e01ed468",
   "metadata": {},
   "source": [
    "                                   Keep Learning, Keep Growing."
   ]
  }
 ],
 "metadata": {
  "kernelspec": {
   "display_name": "Python 3 (ipykernel)",
   "language": "python",
   "name": "python3"
  },
  "language_info": {
   "codemirror_mode": {
    "name": "ipython",
    "version": 3
   },
   "file_extension": ".py",
   "mimetype": "text/x-python",
   "name": "python",
   "nbconvert_exporter": "python",
   "pygments_lexer": "ipython3",
   "version": "3.9.7"
  }
 },
 "nbformat": 4,
 "nbformat_minor": 5
}
