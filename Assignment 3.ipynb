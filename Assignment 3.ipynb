{
 "cells": [
  {
   "cell_type": "markdown",
   "id": "bb72564a",
   "metadata": {},
   "source": [
    "# 1.Why are functions advantageous to have in your programs?"
   ]
  },
  {
   "cell_type": "markdown",
   "id": "fb2e1408",
   "metadata": {},
   "source": [
    "Ans-1) \n",
    "The main advantge of functions are-\n",
    "a) enhances the readability of a program, a big code is always difficult to read. Breaking the code in smaller Functions keeps the program organized, easy to understand and makes it reusable.\n",
    "\n",
    "b) The python follows top-to-down execution, so the control flow can be easily managed in case of functions.\n",
    "\n",
    "c) reduces the complexity of a program and gives it a modular structure.\n",
    "\n",
    "d) we will test only a particular part of the program, without running the whole program and figure out the errors which can be a quite simple process, in Another way we can say that functions can be individually tested which is more convenient than to run complete programme.\n",
    "\n",
    "e) A function can be used to create our own package or module in any number of programs i.e. the reusability.\n"
   ]
  },
  {
   "cell_type": "markdown",
   "id": "9ac2f4dd",
   "metadata": {},
   "source": [
    "# 2.When does the code in a function run: when it's specified or when it's called?"
   ]
  },
  {
   "cell_type": "markdown",
   "id": "00c0b858",
   "metadata": {},
   "source": [
    "Ans-2) A Python function is a group of code. To run the code in a function, you must call the function. A function can be called from anywhere after the function is defined. Functions can return a value using a return statement.Functions are a common feature among all programming languages. \n",
    "\n",
    "when developers write blocks of code that perform specific tasks are specified functions, all user defined functions are specified.\n",
    "while, functions help developers to avoid repetition of writing same code in their programme because they can execute the block of code(function) multiple times over in one program by call, all inbuilt functions are call by developers."
   ]
  },
  {
   "cell_type": "markdown",
   "id": "33d21898",
   "metadata": {},
   "source": [
    "# 3.What statement creates a function?"
   ]
  },
  {
   "cell_type": "markdown",
   "id": "802b3fec",
   "metadata": {},
   "source": [
    "Ans-3) Defining a function by def and giving parameter, then we use colon after that in next line we write statement by using if, elif, else, for, and else conditions."
   ]
  },
  {
   "cell_type": "code",
   "execution_count": 44,
   "id": "f9f12171",
   "metadata": {},
   "outputs": [],
   "source": [
    "#eg-\n",
    "def fl(a):\n",
    "    if type(a)==list:\n",
    "        return max(a)"
   ]
  },
  {
   "cell_type": "code",
   "execution_count": 45,
   "id": "59e670ba",
   "metadata": {},
   "outputs": [
    {
     "data": {
      "text/plain": [
       "100"
      ]
     },
     "execution_count": 45,
     "metadata": {},
     "output_type": "execute_result"
    }
   ],
   "source": [
    "fl([1,2,3,4,10,55,66,100])"
   ]
  },
  {
   "cell_type": "code",
   "execution_count": 46,
   "id": "08bedcbf",
   "metadata": {},
   "outputs": [
    {
     "data": {
      "text/plain": [
       "205"
      ]
     },
     "execution_count": 46,
     "metadata": {},
     "output_type": "execute_result"
    }
   ],
   "source": [
    "fl([101,105,205,200,88])"
   ]
  },
  {
   "cell_type": "markdown",
   "id": "c6aebbc0",
   "metadata": {},
   "source": [
    "# 4.What is the difference between a function and a function call?"
   ]
  },
  {
   "cell_type": "markdown",
   "id": "7c814bc5",
   "metadata": {},
   "source": [
    "Ans-4) Function is a block of code for a particular task, but when user use block of code to complete the task by importing package and module, and in that situation no need to write again the same code."
   ]
  },
  {
   "cell_type": "markdown",
   "id": "33551e88",
   "metadata": {},
   "source": [
    "# 5.How many global scopes are there in a Python program? How many local scopes?"
   ]
  },
  {
   "cell_type": "markdown",
   "id": "c9b70565",
   "metadata": {},
   "source": [
    "Ans-5) In Python, there are only two scopes one is global and another local.\n",
    "       Let's understand with the help of example-"
   ]
  },
  {
   "cell_type": "code",
   "execution_count": 47,
   "id": "b4ecded9",
   "metadata": {},
   "outputs": [
    {
     "name": "stdout",
     "output_type": "stream",
     "text": [
      "200\n",
      "Rashika\n"
     ]
    }
   ],
   "source": [
    "x = \"Rashika\"\n",
    "\n",
    "def mf():\n",
    "    x = 200\n",
    "    print(x)\n",
    "\n",
    "mf()\n",
    "\n",
    "print(x)"
   ]
  },
  {
   "cell_type": "markdown",
   "id": "d9e05851",
   "metadata": {},
   "source": [
    "In the above example, x=\"Rashika\" is a global scope and x=200 is local scope. \n",
    "\n",
    "A variable created outside of the function or Python code is a global variable and belongs to the global scope. Global variables are available from within any scope, global and local.\n",
    "\n",
    "A variable created inside of the function belongs to the local scope, and can only be used inside function."
   ]
  },
  {
   "cell_type": "markdown",
   "id": "6193693f",
   "metadata": {},
   "source": [
    "# 6.What happens to variables in a local scope when the function call returns?"
   ]
  },
  {
   "cell_type": "markdown",
   "id": "644aeb06",
   "metadata": {},
   "source": [
    "Ans-6) Let's understand with the help of example written below:"
   ]
  },
  {
   "cell_type": "code",
   "execution_count": 54,
   "id": "45269521",
   "metadata": {},
   "outputs": [],
   "source": [
    "def sp():\n",
    "    eg = 56789\n",
    "    return eg"
   ]
  },
  {
   "cell_type": "code",
   "execution_count": 55,
   "id": "76ad8873",
   "metadata": {},
   "outputs": [
    {
     "data": {
      "text/plain": [
       "56789"
      ]
     },
     "execution_count": 55,
     "metadata": {},
     "output_type": "execute_result"
    }
   ],
   "source": [
    "sp()"
   ]
  },
  {
   "cell_type": "code",
   "execution_count": 56,
   "id": "b1685514",
   "metadata": {},
   "outputs": [
    {
     "ename": "NameError",
     "evalue": "name 'eg' is not defined",
     "output_type": "error",
     "traceback": [
      "\u001b[1;31m---------------------------------------------------------------------------\u001b[0m",
      "\u001b[1;31mNameError\u001b[0m                                 Traceback (most recent call last)",
      "\u001b[1;32m~\\AppData\\Local\\Temp/ipykernel_11932/3115861112.py\u001b[0m in \u001b[0;36m<module>\u001b[1;34m\u001b[0m\n\u001b[1;32m----> 1\u001b[1;33m \u001b[0mprint\u001b[0m\u001b[1;33m(\u001b[0m\u001b[0meg\u001b[0m\u001b[1;33m)\u001b[0m\u001b[1;33m\u001b[0m\u001b[1;33m\u001b[0m\u001b[0m\n\u001b[0m",
      "\u001b[1;31mNameError\u001b[0m: name 'eg' is not defined"
     ]
    }
   ],
   "source": [
    "print(eg)"
   ]
  },
  {
   "cell_type": "markdown",
   "id": "733394c6",
   "metadata": {},
   "source": [
    "The error happens because the eg variable exists only in the local scope created when sp() is called. Once the program execution returns from sp, that local scope is destroyed, and there is no longer a variable named eg. So when your program tries to run print(eg), Python gives you an error saying that eg is not defined."
   ]
  },
  {
   "cell_type": "markdown",
   "id": "a76d7a24",
   "metadata": {},
   "source": [
    "# 7.What is the concept of a return value? Is it possible to have a return value in an expression?"
   ]
  },
  {
   "cell_type": "markdown",
   "id": "68902e7b",
   "metadata": {},
   "source": [
    "Ans-7) Return always gives data type, while print nonetype, so in our coding we uses return function inplace of print, so that we can explore or use our function's return value in an expression.\n",
    "\n",
    "In Python return statement is a key component of functions and methods. we can use the return statement to make our functions send Python objects back to the caller code. These objects are known as the function’s return value. we can use them to perform further computation in our programs."
   ]
  },
  {
   "cell_type": "markdown",
   "id": "92d8d52d",
   "metadata": {},
   "source": [
    "# 8.If a function does not have a return statement, what is the return value of a call to that function?"
   ]
  },
  {
   "cell_type": "markdown",
   "id": "299d5458",
   "metadata": {},
   "source": [
    "Ans-8) If a function doesn't have a return statement, then the return value of a call to that function is Nonetype."
   ]
  },
  {
   "cell_type": "code",
   "execution_count": 58,
   "id": "3603601b",
   "metadata": {},
   "outputs": [
    {
     "name": "stdout",
     "output_type": "stream",
     "text": [
      "Rashika Gupta\n"
     ]
    }
   ],
   "source": [
    "#eg-\n",
    "\n",
    "a=\"Rashika Gupta\"\n",
    "print(a)"
   ]
  },
  {
   "cell_type": "code",
   "execution_count": 66,
   "id": "78262f78",
   "metadata": {},
   "outputs": [
    {
     "name": "stdout",
     "output_type": "stream",
     "text": [
      "<function a at 0x0000016630C44940>\n"
     ]
    },
    {
     "data": {
      "text/plain": [
       "NoneType"
      ]
     },
     "execution_count": 66,
     "metadata": {},
     "output_type": "execute_result"
    }
   ],
   "source": [
    "type(print(a))"
   ]
  },
  {
   "cell_type": "code",
   "execution_count": 68,
   "id": "8360ce2c",
   "metadata": {},
   "outputs": [],
   "source": [
    "b=\"Rashika Gupta\"\n",
    "def aa(b):\n",
    "    return b"
   ]
  },
  {
   "cell_type": "code",
   "execution_count": 69,
   "id": "1ca483c1",
   "metadata": {},
   "outputs": [
    {
     "data": {
      "text/plain": [
       "'Rashika Gupta'"
      ]
     },
     "execution_count": 69,
     "metadata": {},
     "output_type": "execute_result"
    }
   ],
   "source": [
    "aa(b)"
   ]
  },
  {
   "cell_type": "code",
   "execution_count": 70,
   "id": "8910c314",
   "metadata": {},
   "outputs": [
    {
     "data": {
      "text/plain": [
       "str"
      ]
     },
     "execution_count": 70,
     "metadata": {},
     "output_type": "execute_result"
    }
   ],
   "source": [
    "type(aa(b))"
   ]
  },
  {
   "cell_type": "markdown",
   "id": "0c8f7ac5",
   "metadata": {},
   "source": [
    "# 9.How do you make a function variable refer to the global variable?"
   ]
  },
  {
   "cell_type": "code",
   "execution_count": 71,
   "id": "0c9e9f7b",
   "metadata": {},
   "outputs": [
    {
     "name": "stdout",
     "output_type": "stream",
     "text": [
      "PYTHON\n",
      "LOVER\n"
     ]
    }
   ],
   "source": [
    "#Ans-9) \n",
    "\n",
    "global_var_1 = 'RASHI'\n",
    "global_var_2 = 'GUPTA'\n",
    "\n",
    "def update_var():\n",
    "    global global_var_1\n",
    "    global_var_1 = 'PYTHON'\n",
    "    global global_var_2\n",
    "    global_var_2 = 'LOVER' # update just locally for this function\n",
    "\n",
    "update_var()\n",
    "print(global_var_1) # prints 'PYTHON'\n",
    "print(global_var_2) # prints 'lOVER'"
   ]
  },
  {
   "cell_type": "markdown",
   "id": "8fc99fe4",
   "metadata": {},
   "source": [
    "                                           OR"
   ]
  },
  {
   "cell_type": "code",
   "execution_count": 72,
   "id": "ce32287f",
   "metadata": {},
   "outputs": [],
   "source": [
    "global_var_1 = 'RASHI'\n",
    "global_var_2 = 'GUPTA'\n",
    "\n",
    "def update_var():\n",
    "    global global_var_1\n",
    "    global_var_1 = 'PYTHON'\n",
    "    global global_var_2\n",
    "    global_var_2 = 'LOVER' # update just locally for this function\n",
    "    return global_var_1, global_var_2"
   ]
  },
  {
   "cell_type": "code",
   "execution_count": 73,
   "id": "e3b859ab",
   "metadata": {},
   "outputs": [
    {
     "data": {
      "text/plain": [
       "('PYTHON', 'LOVER')"
      ]
     },
     "execution_count": 73,
     "metadata": {},
     "output_type": "execute_result"
    }
   ],
   "source": [
    "update_var()"
   ]
  },
  {
   "cell_type": "markdown",
   "id": "1019bd00",
   "metadata": {},
   "source": [
    "In the above example, referred global variable in a function, using the global keyword to declare the variables are global."
   ]
  },
  {
   "cell_type": "markdown",
   "id": "f0fd3d1b",
   "metadata": {},
   "source": [
    "# 10.What is the data type of None?"
   ]
  },
  {
   "cell_type": "markdown",
   "id": "9fceaed1",
   "metadata": {},
   "source": [
    "Ans-10)\n",
    "\n",
    "None keyword is an object and a data type of none type class.\n",
    "\n",
    "None datatype doesn’t contain any value, and it's not the same as 0, False, or an empty string.\n",
    "\n",
    "None keyword is used to define a null variable or object/ no value at all.\n",
    "\n",
    "None keyword is a data type of its own (NoneType) and immutable."
   ]
  },
  {
   "cell_type": "markdown",
   "id": "e9012503",
   "metadata": {},
   "source": [
    "# 11.What does the sentence import areallyourpetsnamederic do?"
   ]
  },
  {
   "cell_type": "code",
   "execution_count": 74,
   "id": "bbb298f2",
   "metadata": {},
   "outputs": [
    {
     "ename": "ModuleNotFoundError",
     "evalue": "No module named 'areallyourpetsnamederic'",
     "output_type": "error",
     "traceback": [
      "\u001b[1;31m---------------------------------------------------------------------------\u001b[0m",
      "\u001b[1;31mModuleNotFoundError\u001b[0m                       Traceback (most recent call last)",
      "\u001b[1;32m~\\AppData\\Local\\Temp/ipykernel_11932/51184242.py\u001b[0m in \u001b[0;36m<module>\u001b[1;34m\u001b[0m\n\u001b[1;32m----> 1\u001b[1;33m \u001b[1;32mimport\u001b[0m \u001b[0mareallyourpetsnamederic\u001b[0m\u001b[1;33m\u001b[0m\u001b[1;33m\u001b[0m\u001b[0m\n\u001b[0m",
      "\u001b[1;31mModuleNotFoundError\u001b[0m: No module named 'areallyourpetsnamederic'"
     ]
    }
   ],
   "source": [
    "import areallyourpetsnamederic"
   ]
  },
  {
   "cell_type": "markdown",
   "id": "f2f2e96e",
   "metadata": {},
   "source": [
    "Ans-11) I have executed the above sentence, then python throughing error no such module exists, we can create own module with this name."
   ]
  },
  {
   "cell_type": "markdown",
   "id": "b530801d",
   "metadata": {},
   "source": [
    "# 12.If you had a bacon() feature in a spam module, what would you call it after importing spam?"
   ]
  },
  {
   "cell_type": "markdown",
   "id": "b4c650ca",
   "metadata": {},
   "source": [
    "Ans-12) \n",
    "\n",
    "\n",
    "import spam\n",
    "\n",
    "b=spam.bacon()\n",
    "\n",
    "b"
   ]
  },
  {
   "cell_type": "markdown",
   "id": "293740df",
   "metadata": {},
   "source": [
    "# 13.What can you do to save a programme from crashing if it encounters an error?"
   ]
  },
  {
   "cell_type": "markdown",
   "id": "a3dc064d",
   "metadata": {},
   "source": [
    "Ans-13) \n",
    "\n",
    "To save a programme from crashing if it encounters an error-\n",
    "        \n",
    "We'll use try and except, in try we write statements of code and except for exception, also use raise exception."
   ]
  },
  {
   "cell_type": "markdown",
   "id": "cbb93b2a",
   "metadata": {},
   "source": [
    "# 14.What is the purpose of the try clause? What is the purpose of the except clause?"
   ]
  },
  {
   "cell_type": "markdown",
   "id": "b40d89eb",
   "metadata": {},
   "source": [
    "Ans-14) The purpose of try clause is wherever we have doubt in code lines or conditions where the defined statements not fulfill our requirement then those code of lines keep in try clause, and the doubts, to handle certain conditions/situations or exception errors writes in the except clause."
   ]
  },
  {
   "cell_type": "markdown",
   "id": "cb3ecf40",
   "metadata": {},
   "source": [
    "                                           Keep Learning, Keep Growing."
   ]
  }
 ],
 "metadata": {
  "kernelspec": {
   "display_name": "Python 3 (ipykernel)",
   "language": "python",
   "name": "python3"
  },
  "language_info": {
   "codemirror_mode": {
    "name": "ipython",
    "version": 3
   },
   "file_extension": ".py",
   "mimetype": "text/x-python",
   "name": "python",
   "nbconvert_exporter": "python",
   "pygments_lexer": "ipython3",
   "version": "3.9.7"
  }
 },
 "nbformat": 4,
 "nbformat_minor": 5
}
