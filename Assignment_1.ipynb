{
 "cells": [
  {
   "cell_type": "markdown",
   "id": "f1ba6a59",
   "metadata": {},
   "source": [
    "                                               JAI GURUJI"
   ]
  },
  {
   "cell_type": "markdown",
   "id": "241bce9b",
   "metadata": {},
   "source": [
    "# Q-1) In the below elements which of them are values or an expression? eg:- values can be integer or string and expressions will be mathematical operators.\n",
    "\n",
    "*, \n",
    "\"hello\", \n",
    "-87.8, \n",
    "-, \n",
    "/, \n",
    "+, \n",
    "6\n",
    "# Ans- 1\n",
    "  According to definition and eg given in the question, the values are * , \"hello\", -87.8, 6. While rest of the elements(-, /, +) are expressions."
   ]
  },
  {
   "cell_type": "markdown",
   "id": "aa7db6e8",
   "metadata": {},
   "source": [
    "# Q-2) What is the difference between string and variable?\n",
    "# Ans- 2\n",
    "  The measure difference between string and variable is written below:\n",
    "  \n",
    "  String always writes in single and double quotes, it is immutable and datatype.\n",
    "  Variable stores datatypes, and can't start by integer and special characters."
   ]
  },
  {
   "cell_type": "markdown",
   "id": "0aca6f0e",
   "metadata": {},
   "source": [
    "# Q-3) Describe three different data types.\n",
    "# Ans- 3\n",
    "  The three data types are int, string and bool.\n",
    "  int always represents integer values, and also convert float data type into integer.\n",
    "  string contains integers, words, alphabets and special characters in single and double quotes.\n",
    "  bool data type conveys when variable contains True and False, it works as 1 and 0."
   ]
  },
  {
   "cell_type": "markdown",
   "id": "0e661510",
   "metadata": {},
   "source": [
    "# Q-4) What is an expression made up of? What do all expressions do?\n",
    "# Ans- 4\n",
    "  An expression made up of values, variables, operators, and calls to functions. If we type an expression at the Anaconda     prompt or jupyter notebook, the interpreter evaluates it and displays the result, which is always a value:\n",
    "  eg- input = 1+1\n",
    "     After run input variable, we get output:\n",
    "     2.\n",
    "\n",
    "  "
   ]
  },
  {
   "cell_type": "markdown",
   "id": "8af4d3b9",
   "metadata": {},
   "source": [
    "# Q-5) This assignment statements, like spam = 10. What is the difference between an expression and a statement?\n",
    "# Ans- 5\n",
    "  In programming language, an “expression” is a combination of values and functions that are combined and interpreted by the compiler to create a new value, while a “statement” which is just a standalone unit of execution and doesn’t return anything."
   ]
  },
  {
   "cell_type": "markdown",
   "id": "68f35b95",
   "metadata": {},
   "source": [
    "# Q-6) After running the following code, what does the variable bacon contain?\n",
    "# bacon = 22\n",
    "# bacon + 1\n",
    "# Ans- 6\n",
    "  "
   ]
  },
  {
   "cell_type": "code",
   "execution_count": 3,
   "id": "4abda52b",
   "metadata": {},
   "outputs": [
    {
     "data": {
      "text/plain": [
       "23"
      ]
     },
     "execution_count": 3,
     "metadata": {},
     "output_type": "execute_result"
    }
   ],
   "source": [
    "bacon = 22\n",
    "bacon + 1"
   ]
  },
  {
   "cell_type": "code",
   "execution_count": 4,
   "id": "b291e763",
   "metadata": {},
   "outputs": [
    {
     "data": {
      "text/plain": [
       "22"
      ]
     },
     "execution_count": 4,
     "metadata": {},
     "output_type": "execute_result"
    }
   ],
   "source": [
    "bacon"
   ]
  },
  {
   "cell_type": "markdown",
   "id": "dd31522e",
   "metadata": {},
   "source": [
    " After run the code, bacon contains 22, since bacon is a variable and 22 is the assigned value for bacon variable."
   ]
  },
  {
   "cell_type": "markdown",
   "id": "90699032",
   "metadata": {},
   "source": [
    "# Q-7) What should the values of the following two terms be?\n",
    "\"spam\" + \"spamspam\"\n",
    "\"spam\" * 3"
   ]
  },
  {
   "cell_type": "code",
   "execution_count": 7,
   "id": "600b3fa2",
   "metadata": {},
   "outputs": [
    {
     "data": {
      "text/plain": [
       "'spamspamspam'"
      ]
     },
     "execution_count": 7,
     "metadata": {},
     "output_type": "execute_result"
    }
   ],
   "source": [
    "\"spam\" + \"spamspam\" # Both the strings concatenate."
   ]
  },
  {
   "cell_type": "code",
   "execution_count": 8,
   "id": "2efa5653",
   "metadata": {},
   "outputs": [
    {
     "data": {
      "text/plain": [
       "'spamspamspam'"
      ]
     },
     "execution_count": 8,
     "metadata": {},
     "output_type": "execute_result"
    }
   ],
   "source": [
    "\"spam\" * 3 # the string repeates three times."
   ]
  },
  {
   "cell_type": "markdown",
   "id": "39145ef3",
   "metadata": {},
   "source": [
    "# Q-8) Why is eggs a valid variable name while 100 is invalid?\n",
    "# Ans- 8\n",
    "  eggs is a word while 100 is a numeric value, in python variable can't starts by numeric value."
   ]
  },
  {
   "cell_type": "markdown",
   "id": "dbee8e5a",
   "metadata": {},
   "source": [
    "# Q-9) What three functions can be used to get the integer, floating-point number, or string version of a value?\n",
    "# Ans- 9\n",
    "  The three functions are: int, float, str uses to get the integer, floating-point number, or string version of a value respectively."
   ]
  },
  {
   "cell_type": "markdown",
   "id": "3b58afa4",
   "metadata": {},
   "source": [
    "# Q-10) Why does this expression cause an error? How can you fix it?\n",
    "'I have eaten' + 99 + 'burritos'"
   ]
  },
  {
   "cell_type": "code",
   "execution_count": 9,
   "id": "44305205",
   "metadata": {},
   "outputs": [
    {
     "ename": "TypeError",
     "evalue": "can only concatenate str (not \"int\") to str",
     "output_type": "error",
     "traceback": [
      "\u001b[1;31m---------------------------------------------------------------------------\u001b[0m",
      "\u001b[1;31mTypeError\u001b[0m                                 Traceback (most recent call last)",
      "\u001b[1;32m~\\AppData\\Local\\Temp/ipykernel_6204/2733022945.py\u001b[0m in \u001b[0;36m<module>\u001b[1;34m\u001b[0m\n\u001b[1;32m----> 1\u001b[1;33m \u001b[1;34m'I have eaten'\u001b[0m \u001b[1;33m+\u001b[0m \u001b[1;36m99\u001b[0m \u001b[1;33m+\u001b[0m \u001b[1;34m'burritos'\u001b[0m\u001b[1;33m\u001b[0m\u001b[1;33m\u001b[0m\u001b[0m\n\u001b[0m",
      "\u001b[1;31mTypeError\u001b[0m: can only concatenate str (not \"int\") to str"
     ]
    }
   ],
   "source": [
    "'I have eaten' + 99 + 'burritos'"
   ]
  },
  {
   "cell_type": "markdown",
   "id": "302f39ed",
   "metadata": {},
   "source": [
    "99 is a integer in the given expression,it's type is int. So, two different data types can't concatenate. To fix this error change 99 in to string by using str function."
   ]
  },
  {
   "cell_type": "code",
   "execution_count": 1,
   "id": "f4321e5b",
   "metadata": {},
   "outputs": [
    {
     "data": {
      "text/plain": [
       "'99'"
      ]
     },
     "execution_count": 1,
     "metadata": {},
     "output_type": "execute_result"
    }
   ],
   "source": [
    "t = str(99)\n",
    "t"
   ]
  },
  {
   "cell_type": "code",
   "execution_count": 10,
   "id": "2ff47bd9",
   "metadata": {},
   "outputs": [
    {
     "name": "stdout",
     "output_type": "stream",
     "text": [
      "I have eaten 99 burritos\n"
     ]
    }
   ],
   "source": [
    "t = str(99)\n",
    "p='I have eaten ' + t  + ' burritos'\n",
    "print(p)\n"
   ]
  },
  {
   "cell_type": "markdown",
   "id": "92882db2",
   "metadata": {},
   "source": [
    "                                        \"\"\" Thank You \"\"\""
   ]
  }
 ],
 "metadata": {
  "kernelspec": {
   "display_name": "Python 3 (ipykernel)",
   "language": "python",
   "name": "python3"
  },
  "language_info": {
   "codemirror_mode": {
    "name": "ipython",
    "version": 3
   },
   "file_extension": ".py",
   "mimetype": "text/x-python",
   "name": "python",
   "nbconvert_exporter": "python",
   "pygments_lexer": "ipython3",
   "version": "3.9.7"
  }
 },
 "nbformat": 4,
 "nbformat_minor": 5
}
