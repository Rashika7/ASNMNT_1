{
 "cells": [
  {
   "cell_type": "markdown",
   "id": "5e8949e7",
   "metadata": {},
   "source": [
    "# 1.What does an empty dictionary's code look like?"
   ]
  },
  {
   "cell_type": "markdown",
   "id": "09ea6231",
   "metadata": {},
   "source": [
    "Ans-1) Empty dictionary is a set, set and dictionary both represented by {}, if the elements in the curly braces are in key value pair then it is dictionary otherwise set."
   ]
  },
  {
   "cell_type": "markdown",
   "id": "d32171ed",
   "metadata": {},
   "source": [
    "# 2.What is the value of a dictionary value with the key 'foo' and the value 42?"
   ]
  },
  {
   "cell_type": "code",
   "execution_count": 1,
   "id": "55c1cf86",
   "metadata": {},
   "outputs": [],
   "source": [
    "#Ans-2) \n",
    "dictnry={'foo':42}\n",
    "#The dictnry contains one key and one value."
   ]
  },
  {
   "cell_type": "code",
   "execution_count": 2,
   "id": "e7b648b4",
   "metadata": {},
   "outputs": [
    {
     "data": {
      "text/plain": [
       "1"
      ]
     },
     "execution_count": 2,
     "metadata": {},
     "output_type": "execute_result"
    }
   ],
   "source": [
    "len(dictnry)"
   ]
  },
  {
   "cell_type": "code",
   "execution_count": 3,
   "id": "f6746460",
   "metadata": {},
   "outputs": [
    {
     "data": {
      "text/plain": [
       "dict_values([42])"
      ]
     },
     "execution_count": 3,
     "metadata": {},
     "output_type": "execute_result"
    }
   ],
   "source": [
    "dictnry.values()"
   ]
  },
  {
   "cell_type": "markdown",
   "id": "1d58c621",
   "metadata": {},
   "source": [
    "# 3.What is the most significant distinction between a dictionary and a list?"
   ]
  },
  {
   "cell_type": "markdown",
   "id": "5a606a96",
   "metadata": {},
   "source": [
    "Ans-3) \n",
    "\n",
    "dictionary contains key and value pairs, while list contains only values.\n",
    "\n",
    "dictionary represented by curly braces with key value pair, while list by square bracket.\n"
   ]
  },
  {
   "cell_type": "markdown",
   "id": "660ac620",
   "metadata": {},
   "source": [
    "# 4.What happens if you try to access spam['foo'] if spam is {'bar': 100}?"
   ]
  },
  {
   "cell_type": "code",
   "execution_count": 4,
   "id": "5079d6c7",
   "metadata": {},
   "outputs": [],
   "source": [
    "#Ans-4) \n",
    "spam={'bar':100}"
   ]
  },
  {
   "cell_type": "code",
   "execution_count": 5,
   "id": "8468f83a",
   "metadata": {},
   "outputs": [
    {
     "ename": "KeyError",
     "evalue": "'foo'",
     "output_type": "error",
     "traceback": [
      "\u001b[1;31m---------------------------------------------------------------------------\u001b[0m",
      "\u001b[1;31mKeyError\u001b[0m                                  Traceback (most recent call last)",
      "\u001b[1;32m~\\AppData\\Local\\Temp/ipykernel_532/3999281786.py\u001b[0m in \u001b[0;36m<module>\u001b[1;34m\u001b[0m\n\u001b[1;32m----> 1\u001b[1;33m \u001b[0mspam\u001b[0m\u001b[1;33m[\u001b[0m\u001b[1;34m'foo'\u001b[0m\u001b[1;33m]\u001b[0m\u001b[1;33m\u001b[0m\u001b[1;33m\u001b[0m\u001b[0m\n\u001b[0m",
      "\u001b[1;31mKeyError\u001b[0m: 'foo'"
     ]
    }
   ],
   "source": [
    "spam['foo']"
   ]
  },
  {
   "cell_type": "markdown",
   "id": "b39aadfa",
   "metadata": {},
   "source": [
    "if the key isn't available in the dictionary, we get key error."
   ]
  },
  {
   "cell_type": "markdown",
   "id": "94864352",
   "metadata": {},
   "source": [
    "# 5. If a dictionary is stored in spam, what is the difference between the expressions 'cat' in spam and 'cat' in spam.keys()?"
   ]
  },
  {
   "cell_type": "code",
   "execution_count": 6,
   "id": "d86d4ec4",
   "metadata": {},
   "outputs": [],
   "source": [
    "#Ans-5)\n",
    "spam={\"cat\"}\n",
    "#if 'cat' in spam, it means spam is a set with one element."
   ]
  },
  {
   "cell_type": "code",
   "execution_count": 7,
   "id": "3e24551d",
   "metadata": {},
   "outputs": [
    {
     "ename": "AttributeError",
     "evalue": "'set' object has no attribute 'keys'",
     "output_type": "error",
     "traceback": [
      "\u001b[1;31m---------------------------------------------------------------------------\u001b[0m",
      "\u001b[1;31mAttributeError\u001b[0m                            Traceback (most recent call last)",
      "\u001b[1;32m~\\AppData\\Local\\Temp/ipykernel_532/2798072027.py\u001b[0m in \u001b[0;36m<module>\u001b[1;34m\u001b[0m\n\u001b[1;32m----> 1\u001b[1;33m \u001b[0mspam\u001b[0m\u001b[1;33m.\u001b[0m\u001b[0mkeys\u001b[0m\u001b[1;33m(\u001b[0m\u001b[1;34m'cat'\u001b[0m\u001b[1;33m)\u001b[0m\u001b[1;33m\u001b[0m\u001b[1;33m\u001b[0m\u001b[0m\n\u001b[0m",
      "\u001b[1;31mAttributeError\u001b[0m: 'set' object has no attribute 'keys'"
     ]
    }
   ],
   "source": [
    "spam.keys('cat')"
   ]
  },
  {
   "cell_type": "markdown",
   "id": "e2e227ce",
   "metadata": {},
   "source": [
    "for spam.keys('cat'), we got AttributeError."
   ]
  },
  {
   "cell_type": "markdown",
   "id": "68e86b5d",
   "metadata": {},
   "source": [
    "# 6.If a dictionary is stored in spam, what is the difference between the expressions 'cat' in spam and'cat' in spam.values()?"
   ]
  },
  {
   "cell_type": "code",
   "execution_count": 8,
   "id": "b200aeeb",
   "metadata": {},
   "outputs": [],
   "source": [
    "#Ans-6)\n",
    "spam={'cat'}"
   ]
  },
  {
   "cell_type": "code",
   "execution_count": 9,
   "id": "41568197",
   "metadata": {},
   "outputs": [
    {
     "ename": "AttributeError",
     "evalue": "'set' object has no attribute 'values'",
     "output_type": "error",
     "traceback": [
      "\u001b[1;31m---------------------------------------------------------------------------\u001b[0m",
      "\u001b[1;31mAttributeError\u001b[0m                            Traceback (most recent call last)",
      "\u001b[1;32m~\\AppData\\Local\\Temp/ipykernel_532/3953555361.py\u001b[0m in \u001b[0;36m<module>\u001b[1;34m\u001b[0m\n\u001b[1;32m----> 1\u001b[1;33m \u001b[0mspam\u001b[0m\u001b[1;33m.\u001b[0m\u001b[0mvalues\u001b[0m\u001b[1;33m(\u001b[0m\u001b[1;34m'cat'\u001b[0m\u001b[1;33m)\u001b[0m\u001b[1;33m\u001b[0m\u001b[1;33m\u001b[0m\u001b[0m\n\u001b[0m",
      "\u001b[1;31mAttributeError\u001b[0m: 'set' object has no attribute 'values'"
     ]
    }
   ],
   "source": [
    "spam.values('cat')"
   ]
  },
  {
   "cell_type": "markdown",
   "id": "3438c4de",
   "metadata": {},
   "source": [
    "From above executed lines, we can conclude that set has no attribute values, it's only applicable for dictionary also in dictionary values has'nt take arguments otherwise we get type error."
   ]
  },
  {
   "cell_type": "markdown",
   "id": "8a6ae53f",
   "metadata": {},
   "source": [
    "# 7.What is a shortcut for the following code?\n",
    "\n",
    "if 'color' not in spam:\n",
    "\n",
    "spam['color'] = 'black'"
   ]
  },
  {
   "cell_type": "code",
   "execution_count": 10,
   "id": "899f523b",
   "metadata": {},
   "outputs": [],
   "source": [
    "spam={}\n",
    "spam['color']='black'"
   ]
  },
  {
   "cell_type": "code",
   "execution_count": 11,
   "id": "24820ec5",
   "metadata": {},
   "outputs": [
    {
     "data": {
      "text/plain": [
       "{'color': 'black'}"
      ]
     },
     "execution_count": 11,
     "metadata": {},
     "output_type": "execute_result"
    }
   ],
   "source": [
    "spam"
   ]
  },
  {
   "cell_type": "code",
   "execution_count": 16,
   "id": "c67d9d7e",
   "metadata": {},
   "outputs": [
    {
     "data": {
      "text/plain": [
       "{'cat': 100, 'color': 'black'}"
      ]
     },
     "execution_count": 16,
     "metadata": {},
     "output_type": "execute_result"
    }
   ],
   "source": [
    "# we use setdefault if key isn't in dictionary.\n",
    "spam1 ={'cat':100}\n",
    "spam1.setdefault('color','black')\n",
    "spam1"
   ]
  },
  {
   "cell_type": "markdown",
   "id": "73b3ebea",
   "metadata": {},
   "source": [
    "# 8.How do you \"pretty print\" dictionary values using which module and function?"
   ]
  },
  {
   "cell_type": "code",
   "execution_count": 17,
   "id": "d10bdfad",
   "metadata": {},
   "outputs": [],
   "source": [
    "#Ans-8) pretty print means to readable sequence of keys, and get structured format.\n",
    "import pprint\n",
    "dc=[{'kk':1,'jj':2,'aa':3},{'kk':4,'aa':5,'jj':6},{'jj':7,'aa':8,'kk':9}]"
   ]
  },
  {
   "cell_type": "code",
   "execution_count": 18,
   "id": "88267621",
   "metadata": {},
   "outputs": [
    {
     "name": "stdout",
     "output_type": "stream",
     "text": [
      "[{'aa': 3, 'jj': 2, 'kk': 1},\n",
      " {'aa': 5, 'jj': 6, 'kk': 4},\n",
      " {'aa': 8, 'jj': 7, 'kk': 9}]\n"
     ]
    }
   ],
   "source": [
    "pprint.pprint(dc)"
   ]
  },
  {
   "cell_type": "code",
   "execution_count": 19,
   "id": "e33d2533",
   "metadata": {},
   "outputs": [
    {
     "name": "stdout",
     "output_type": "stream",
     "text": [
      "[{'kk': 1, 'jj': 2, 'aa': 3}, {'kk': 4, 'aa': 5, 'jj': 6}, {'jj': 7, 'aa': 8, 'kk': 9}]\n"
     ]
    }
   ],
   "source": [
    "print(dc)"
   ]
  },
  {
   "cell_type": "markdown",
   "id": "b00b6515",
   "metadata": {},
   "source": [
    "                                   Keep Learning, Keep Growing."
   ]
  }
 ],
 "metadata": {
  "kernelspec": {
   "display_name": "Python 3 (ipykernel)",
   "language": "python",
   "name": "python3"
  },
  "language_info": {
   "codemirror_mode": {
    "name": "ipython",
    "version": 3
   },
   "file_extension": ".py",
   "mimetype": "text/x-python",
   "name": "python",
   "nbconvert_exporter": "python",
   "pygments_lexer": "ipython3",
   "version": "3.9.7"
  }
 },
 "nbformat": 4,
 "nbformat_minor": 5
}
